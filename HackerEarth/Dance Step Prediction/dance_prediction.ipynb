{
 "cells": [
  {
   "cell_type": "code",
   "execution_count": 1,
   "metadata": {
    "colab": {
     "base_uri": "https://localhost:8080/",
     "height": 119
    },
    "colab_type": "code",
    "id": "2LYhkyURFU7n",
    "outputId": "273041d3-7760-4349-b104-d812230aa9e3"
   },
   "outputs": [
    {
     "name": "stderr",
     "output_type": "stream",
     "text": [
      "Using TensorFlow backend.\n"
     ]
    },
    {
     "name": "stdout",
     "output_type": "stream",
     "text": [
      "TensorFlow version: 2.0.0\n",
      "Is using GPU? False\n"
     ]
    }
   ],
   "source": [
    "import tensorflow as tf\n",
    "import PIL\n",
    "import os\n",
    "import numpy as np\n",
    "import sys\n",
    "import pandas as pd\n",
    "from matplotlib import pyplot\n",
    "from keras.datasets import cifar10\n",
    "from keras.utils import to_categorical\n",
    "from keras.models import Sequential\n",
    "from keras.layers import Conv2D\n",
    "from keras.layers import MaxPooling2D\n",
    "from keras.layers import Dense\n",
    "from keras.layers import Flatten\n",
    "from keras.optimizers import SGD\n",
    "\n",
    "from matplotlib import pyplot as plt\n",
    "from tensorflow.keras.layers import Conv2D, MaxPooling2D, BatchNormalization\n",
    "from tensorflow.keras.layers import Dropout, Flatten, Input, Dense\n",
    "%matplotlib inline\n",
    "\n",
    "if not os.path.isdir('models'):\n",
    "    os.mkdir('models')\n",
    "    \n",
    "print('TensorFlow version:', tf.__version__)\n",
    "print('Is using GPU?', tf.test.is_gpu_available())"
   ]
  },
  {
   "cell_type": "code",
   "execution_count": 2,
   "metadata": {},
   "outputs": [],
   "source": [
    "import zipfile\n",
    "with zipfile.ZipFile(\"dataa.zip\",\"r\") as zip_ref:\n",
    "    zip_ref.extractall(\"data\")"
   ]
  },
  {
   "cell_type": "code",
   "execution_count": 0,
   "metadata": {
    "colab": {
     "base_uri": "https://localhost:8080/",
     "height": 34
    },
    "colab_type": "code",
    "id": "pOpx7uzQHYsf",
    "outputId": "87f87c3d-93fc-48f1-bff8-6546767225ca"
   },
   "outputs": [
    {
     "name": "stdout",
     "output_type": "stream",
     "text": [
      "Requirement already satisfied: pillow in /usr/local/lib/python3.6/dist-packages (7.0.0)\n"
     ]
    }
   ],
   "source": [
    "pip install pillow"
   ]
  },
  {
   "cell_type": "code",
   "execution_count": 2,
   "metadata": {
    "colab": {},
    "colab_type": "code",
    "id": "6ot6W1eEOMom"
   },
   "outputs": [],
   "source": [
    "df_train=pd.read_csv(\"data/dataset/train.csv\")"
   ]
  },
  {
   "cell_type": "code",
   "execution_count": 0,
   "metadata": {
    "colab": {},
    "colab_type": "code",
    "id": "ncDUuyjRI-vy"
   },
   "outputs": [],
   "source": [
    "df_train.to_csv('train_pixel_orig.csv')"
   ]
  },
  {
   "cell_type": "code",
   "execution_count": 0,
   "metadata": {
    "colab": {
     "base_uri": "https://localhost:8080/",
     "height": 204
    },
    "colab_type": "code",
    "id": "uY6n85HQYank",
    "outputId": "4f4368f3-156b-4938-f777-31ed1881974e"
   },
   "outputs": [
    {
     "data": {
      "text/html": [
       "<div>\n",
       "<style scoped>\n",
       "    .dataframe tbody tr th:only-of-type {\n",
       "        vertical-align: middle;\n",
       "    }\n",
       "\n",
       "    .dataframe tbody tr th {\n",
       "        vertical-align: top;\n",
       "    }\n",
       "\n",
       "    .dataframe thead th {\n",
       "        text-align: right;\n",
       "    }\n",
       "</style>\n",
       "<table border=\"1\" class=\"dataframe\">\n",
       "  <thead>\n",
       "    <tr style=\"text-align: right;\">\n",
       "      <th></th>\n",
       "      <th>Image</th>\n",
       "      <th>target</th>\n",
       "      <th>pixels</th>\n",
       "    </tr>\n",
       "  </thead>\n",
       "  <tbody>\n",
       "    <tr>\n",
       "      <th>0</th>\n",
       "      <td>96.jpg</td>\n",
       "      <td>manipuri</td>\n",
       "      <td>[1, 1, 1, 1, 1, 1, 1, 1, 1, 1, 1, 1, 1, 1, 1, ...</td>\n",
       "    </tr>\n",
       "    <tr>\n",
       "      <th>1</th>\n",
       "      <td>163.jpg</td>\n",
       "      <td>bharatanatyam</td>\n",
       "      <td>[16, 8, 9, 16, 8, 9, 16, 8, 9, 17, 9, 10, 17, ...</td>\n",
       "    </tr>\n",
       "    <tr>\n",
       "      <th>2</th>\n",
       "      <td>450.jpg</td>\n",
       "      <td>odissi</td>\n",
       "      <td>[11, 14, 18, 12, 15, 19, 13, 16, 20, 14, 17, 2...</td>\n",
       "    </tr>\n",
       "    <tr>\n",
       "      <th>3</th>\n",
       "      <td>219.jpg</td>\n",
       "      <td>kathakali</td>\n",
       "      <td>[7, 21, 27, 6, 20, 26, 5, 19, 25, 5, 19, 25, 6...</td>\n",
       "    </tr>\n",
       "    <tr>\n",
       "      <th>4</th>\n",
       "      <td>455.jpg</td>\n",
       "      <td>odissi</td>\n",
       "      <td>[0, 0, 0, 0, 0, 0, 0, 0, 0, 0, 0, 0, 0, 0, 0, ...</td>\n",
       "    </tr>\n",
       "  </tbody>\n",
       "</table>\n",
       "</div>"
      ],
      "text/plain": [
       "     Image         target                                             pixels\n",
       "0   96.jpg       manipuri  [1, 1, 1, 1, 1, 1, 1, 1, 1, 1, 1, 1, 1, 1, 1, ...\n",
       "1  163.jpg  bharatanatyam  [16, 8, 9, 16, 8, 9, 16, 8, 9, 17, 9, 10, 17, ...\n",
       "2  450.jpg         odissi  [11, 14, 18, 12, 15, 19, 13, 16, 20, 14, 17, 2...\n",
       "3  219.jpg      kathakali  [7, 21, 27, 6, 20, 26, 5, 19, 25, 5, 19, 25, 6...\n",
       "4  455.jpg         odissi  [0, 0, 0, 0, 0, 0, 0, 0, 0, 0, 0, 0, 0, 0, 0, ..."
      ]
     },
     "execution_count": 57,
     "metadata": {
      "tags": []
     },
     "output_type": "execute_result"
    }
   ],
   "source": [
    "df_train.head()"
   ]
  },
  {
   "cell_type": "code",
   "execution_count": 3,
   "metadata": {
    "colab": {},
    "colab_type": "code",
    "id": "wQdAFydZAiDQ"
   },
   "outputs": [],
   "source": [
    "df_test=pd.read_csv(\"test.csv\")"
   ]
  },
  {
   "cell_type": "code",
   "execution_count": 3,
   "metadata": {
    "colab": {},
    "colab_type": "code",
    "id": "QtZ4PbLgXVGc"
   },
   "outputs": [],
   "source": [
    "# load and display an image with Matplotlib\n",
    "import cv2\n",
    "import glob2\n",
    "import numpy as np\n",
    "import re\n",
    "from matplotlib import image\n",
    "from matplotlib import pyplot\n",
    "from keras.utils import to_categorical\n",
    "from keras.preprocessing import image\n",
    "import keras\n",
    "from keras.models import Sequential\n",
    "from keras.layers import Dense, Dropout, Flatten\n",
    "from keras.layers import Conv2D, MaxPooling2D\n",
    "from keras.utils import to_categorical\n",
    "from keras.preprocessing import image\n",
    "import numpy as np\n",
    "import pandas as pd\n",
    "import matplotlib.pyplot as plt\n",
    "from sklearn.model_selection import train_test_split\n",
    "from keras.utils import to_categorical\n",
    "from tqdm import tqdm\n",
    "pd.options.mode.chained_assignment = None\n",
    "files = glob2.glob (\"data/dataset/train/*.jpg\")\n",
    "train_image=[]\n",
    "for i in files:\n",
    "  img=cv2.imread(i)\n",
    "  img=cv2.resize(img,(224,224))\n",
    "  img=image.img_to_array(img)\n",
    "  img=img/255\n",
    "  train_image.append(img)\n",
    "X=np.array(train_image)\n"
   ]
  },
  {
   "cell_type": "code",
   "execution_count": 11,
   "metadata": {
    "colab": {
     "base_uri": "https://localhost:8080/",
     "height": 523
    },
    "colab_type": "code",
    "id": "aPC1gLwru6u3",
    "outputId": "6e7f3efc-063c-4638-aa8b-0a4e44c45fd7"
   },
   "outputs": [
    {
     "data": {
      "image/png": "[encoded data removed]",
      "text/plain": [
       "<PIL.Image.Image image mode=L size=1061x596 at 0x7FCB585B2C88>"
      ]
     },
     "metadata": {
      "tags": []
     },
     "output_type": "display_data"
    }
   ],
   "source": [
    "import cv2\n",
    "from google.colab.patches import cv2_imshow\n",
    "img=cv2.imread(\"sample_data/train/1.jpg\")\n",
    "img = cv2.cvtColor(img, cv2.COLOR_BGR2GRAY)\n",
    "cv2_imshow(img)"
   ]
  },
  {
   "cell_type": "code",
   "execution_count": 0,
   "metadata": {
    "colab": {},
    "colab_type": "code",
    "id": "RzW3DcsaYfC2"
   },
   "outputs": [],
   "source": [
    "y=df_train['target']\n",
    "\n",
    "y.replace({'manipuri':1, 'bharatanatyam':2, 'odissi':3, 'kathakali':4, 'kathak':5,'sattriya':6, 'kuchipudi':7, 'mohiniyattam':8}, inplace=True)\n"
   ]
  },
  {
   "cell_type": "code",
   "execution_count": 4,
   "metadata": {
    "colab": {},
    "colab_type": "code",
    "id": "Kpeik2w-AHaK"
   },
   "outputs": [],
   "source": [
    "from sklearn.preprocessing import LabelEncoder\n",
    "import numpy as np\n",
    "y=df_train['target']\n",
    "code = np.array(y)\n",
    "\n",
    "label_encoder = LabelEncoder()\n",
    "vec = label_encoder.fit_transform(code)\n",
    "from keras.utils import to_categorical\n",
    "\n",
    "y=to_categorical(vec)"
   ]
  },
  {
   "cell_type": "code",
   "execution_count": 5,
   "metadata": {},
   "outputs": [
    {
     "data": {
      "text/plain": [
       "array([[0., 0., 0., ..., 0., 0., 0.],\n",
       "       [1., 0., 0., ..., 0., 0., 0.],\n",
       "       [0., 0., 0., ..., 0., 1., 0.],\n",
       "       ...,\n",
       "       [0., 0., 0., ..., 0., 0., 0.],\n",
       "       [0., 0., 0., ..., 0., 0., 0.],\n",
       "       [0., 0., 0., ..., 1., 0., 0.]], dtype=float32)"
      ]
     },
     "execution_count": 5,
     "metadata": {},
     "output_type": "execute_result"
    }
   ],
   "source": [
    "y"
   ]
  },
  {
   "cell_type": "code",
   "execution_count": 9,
   "metadata": {
    "colab": {},
    "colab_type": "code",
    "id": "oCpdWKRTAbce"
   },
   "outputs": [],
   "source": [
    "X_train, X_test, y_train, y_test = train_test_split(X, y, random_state=42, test_size=0.3)"
   ]
  },
  {
   "cell_type": "code",
   "execution_count": 5,
   "metadata": {
    "colab": {},
    "colab_type": "code",
    "id": "qyvo7lU1BuA1"
   },
   "outputs": [],
   "source": [
    "model = Sequential()\n",
    "model.add(Conv2D(32, kernel_size=(3, 3),activation='relu',input_shape=(28,28,3)))\n",
    "model.add(Conv2D(64, (3, 3), activation='relu'))\n",
    "model.add(MaxPooling2D(pool_size=(2, 2)))\n",
    "model.add(Dropout(0.25))\n",
    "model.add(Flatten())\n",
    "model.add(Dense(128, activation='relu'))\n",
    "model.add(Dropout(0.5))\n",
    "model.add(Dense(8, activation='softmax'))"
   ]
  },
  {
   "cell_type": "code",
   "execution_count": 6,
   "metadata": {
    "colab": {},
    "colab_type": "code",
    "id": "QtDEMlXsGyix"
   },
   "outputs": [],
   "source": [
    "model.compile(loss='categorical_crossentropy',optimizer='Adam',metrics=['accuracy'])"
   ]
  },
  {
   "cell_type": "code",
   "execution_count": 11,
   "metadata": {
    "colab": {
     "base_uri": "https://localhost:8080/",
     "height": 51
    },
    "colab_type": "code",
    "id": "kdDGICa7G0kj",
    "outputId": "2a0c5295-5e0f-4b8c-d23a-2cd96b3e608c",
    "scrolled": true
   },
   "outputs": [
    {
     "name": "stdout",
     "output_type": "stream",
     "text": [
      "Epoch 1/10\n",
      "364/364 [==============================] - ETA: 3s - loss: 70.8721 - accuracy: 0.187 - ETA: 1s - loss: 92.9903 - accuracy: 0.171 - ETA: 1s - loss: 102.5582 - accuracy: 0.18 - ETA: 0s - loss: 106.2535 - accuracy: 0.17 - ETA: 0s - loss: 101.8356 - accuracy: 0.16 - ETA: 0s - loss: 91.8862 - accuracy: 0.1510 - ETA: 0s - loss: 83.6816 - accuracy: 0.156 - ETA: 0s - loss: 76.3777 - accuracy: 0.152 - ETA: 0s - loss: 69.2321 - accuracy: 0.149 - ETA: 0s - loss: 63.2830 - accuracy: 0.146 - ETA: 0s - loss: 58.0757 - accuracy: 0.144 - 1s 3ms/step - loss: 56.2752 - accuracy: 0.1456\n",
      "Epoch 2/10\n",
      "364/364 [==============================] - ETA: 0s - loss: 3.5763 - accuracy: 0.18 - ETA: 0s - loss: 3.3992 - accuracy: 0.15 - ETA: 0s - loss: 3.1866 - accuracy: 0.16 - ETA: 0s - loss: 3.0684 - accuracy: 0.17 - ETA: 0s - loss: 3.0516 - accuracy: 0.15 - ETA: 0s - loss: 3.0433 - accuracy: 0.15 - ETA: 0s - loss: 2.9485 - accuracy: 0.15 - ETA: 0s - loss: 2.8782 - accuracy: 0.14 - ETA: 0s - loss: 2.8014 - accuracy: 0.14 - ETA: 0s - loss: 2.7253 - accuracy: 0.14 - ETA: 0s - loss: 2.6754 - accuracy: 0.14 - 1s 2ms/step - loss: 2.6647 - accuracy: 0.1429\n",
      "Epoch 3/10\n",
      "364/364 [==============================] - ETA: 0s - loss: 1.8732 - accuracy: 0.34 - ETA: 0s - loss: 1.9043 - accuracy: 0.31 - ETA: 0s - loss: 2.0027 - accuracy: 0.26 - ETA: 0s - loss: 2.0088 - accuracy: 0.21 - ETA: 0s - loss: 2.0450 - accuracy: 0.20 - ETA: 0s - loss: 2.0257 - accuracy: 0.20 - ETA: 0s - loss: 2.0354 - accuracy: 0.21 - ETA: 0s - loss: 2.0367 - accuracy: 0.21 - ETA: 0s - loss: 2.0374 - accuracy: 0.20 - ETA: 0s - loss: 2.0297 - accuracy: 0.21 - ETA: 0s - loss: 2.0358 - accuracy: 0.21 - 1s 2ms/step - loss: 2.0292 - accuracy: 0.2170\n",
      "Epoch 4/10\n",
      "364/364 [==============================] - ETA: 0s - loss: 1.9839 - accuracy: 0.15 - ETA: 0s - loss: 1.9169 - accuracy: 0.20 - ETA: 0s - loss: 1.8944 - accuracy: 0.23 - ETA: 0s - loss: 1.9004 - accuracy: 0.21 - ETA: 0s - loss: 1.8705 - accuracy: 0.25 - ETA: 0s - loss: 1.8840 - accuracy: 0.25 - ETA: 0s - loss: 1.8787 - accuracy: 0.26 - ETA: 0s - loss: 1.8668 - accuracy: 0.26 - ETA: 0s - loss: 1.8576 - accuracy: 0.27 - ETA: 0s - loss: 1.8463 - accuracy: 0.29 - ETA: 0s - loss: 1.8420 - accuracy: 0.29 - 1s 2ms/step - loss: 1.8401 - accuracy: 0.2995\n",
      "Epoch 5/10\n",
      "364/364 [==============================] - ETA: 0s - loss: 1.9133 - accuracy: 0.18 - ETA: 0s - loss: 1.8472 - accuracy: 0.29 - ETA: 0s - loss: 1.8066 - accuracy: 0.31 - ETA: 0s - loss: 1.7849 - accuracy: 0.34 - ETA: 0s - loss: 1.7781 - accuracy: 0.34 - ETA: 0s - loss: 1.7565 - accuracy: 0.36 - ETA: 0s - loss: 1.7536 - accuracy: 0.35 - ETA: 0s - loss: 1.7262 - accuracy: 0.35 - ETA: 0s - loss: 1.7062 - accuracy: 0.37 - ETA: 0s - loss: 1.6900 - accuracy: 0.36 - ETA: 0s - loss: 1.6832 - accuracy: 0.37 - 1s 2ms/step - loss: 1.6807 - accuracy: 0.3764\n",
      "Epoch 6/10\n",
      "364/364 [==============================] - ETA: 0s - loss: 1.4109 - accuracy: 0.43 - ETA: 0s - loss: 1.4628 - accuracy: 0.39 - ETA: 0s - loss: 1.3967 - accuracy: 0.43 - ETA: 0s - loss: 1.3982 - accuracy: 0.43 - ETA: 0s - loss: 1.4139 - accuracy: 0.45 - ETA: 0s - loss: 1.3994 - accuracy: 0.46 - ETA: 0s - loss: 1.3844 - accuracy: 0.46 - ETA: 0s - loss: 1.3985 - accuracy: 0.46 - ETA: 0s - loss: 1.3919 - accuracy: 0.48 - ETA: 0s - loss: 1.3894 - accuracy: 0.49 - ETA: 0s - loss: 1.3991 - accuracy: 0.49 - 1s 2ms/step - loss: 1.4034 - accuracy: 0.4808\n",
      "Epoch 7/10\n",
      "364/364 [==============================] - ETA: 0s - loss: 1.1339 - accuracy: 0.59 - ETA: 0s - loss: 1.0894 - accuracy: 0.60 - ETA: 0s - loss: 1.1459 - accuracy: 0.58 - ETA: 0s - loss: 1.1709 - accuracy: 0.57 - ETA: 0s - loss: 1.2581 - accuracy: 0.52 - ETA: 0s - loss: 1.2422 - accuracy: 0.53 - ETA: 0s - loss: 1.2342 - accuracy: 0.55 - ETA: 0s - loss: 1.2569 - accuracy: 0.56 - ETA: 0s - loss: 1.2243 - accuracy: 0.58 - ETA: 0s - loss: 1.2293 - accuracy: 0.59 - ETA: 0s - loss: 1.2215 - accuracy: 0.59 - 1s 2ms/step - loss: 1.2433 - accuracy: 0.5879\n",
      "Epoch 8/10\n",
      "364/364 [==============================] - ETA: 0s - loss: 1.1982 - accuracy: 0.53 - ETA: 0s - loss: 1.0553 - accuracy: 0.62 - ETA: 0s - loss: 0.9579 - accuracy: 0.66 - ETA: 0s - loss: 1.0233 - accuracy: 0.64 - ETA: 0s - loss: 0.9923 - accuracy: 0.64 - ETA: 0s - loss: 1.0155 - accuracy: 0.61 - ETA: 0s - loss: 1.0319 - accuracy: 0.61 - ETA: 0s - loss: 1.0460 - accuracy: 0.61 - ETA: 0s - loss: 1.0908 - accuracy: 0.61 - ETA: 0s - loss: 1.0763 - accuracy: 0.62 - ETA: 0s - loss: 1.0909 - accuracy: 0.62 - 1s 2ms/step - loss: 1.0950 - accuracy: 0.6291\n",
      "Epoch 9/10\n",
      "364/364 [==============================] - ETA: 0s - loss: 0.7676 - accuracy: 0.78 - ETA: 0s - loss: 0.7795 - accuracy: 0.75 - ETA: 0s - loss: 0.7941 - accuracy: 0.75 - ETA: 0s - loss: 0.7819 - accuracy: 0.75 - ETA: 0s - loss: 0.7728 - accuracy: 0.76 - ETA: 0s - loss: 0.7949 - accuracy: 0.76 - ETA: 0s - loss: 0.7531 - accuracy: 0.76 - ETA: 0s - loss: 0.7824 - accuracy: 0.73 - ETA: 0s - loss: 0.8128 - accuracy: 0.73 - ETA: 0s - loss: 0.8352 - accuracy: 0.72 - ETA: 0s - loss: 0.8599 - accuracy: 0.70 - 1s 2ms/step - loss: 0.8390 - accuracy: 0.7170\n",
      "Epoch 10/10\n",
      "364/364 [==============================] - ETA: 0s - loss: 0.8983 - accuracy: 0.71 - ETA: 0s - loss: 0.9148 - accuracy: 0.76 - ETA: 0s - loss: 0.7814 - accuracy: 0.77 - ETA: 0s - loss: 0.7450 - accuracy: 0.77 - ETA: 0s - loss: 0.7321 - accuracy: 0.78 - ETA: 0s - loss: 0.7360 - accuracy: 0.79 - ETA: 0s - loss: 0.6907 - accuracy: 0.79 - ETA: 0s - loss: 0.7064 - accuracy: 0.78 - ETA: 0s - loss: 0.7037 - accuracy: 0.78 - ETA: 0s - loss: 0.7514 - accuracy: 0.76 - ETA: 0s - loss: 0.7928 - accuracy: 0.74 - 1s 2ms/step - loss: 0.8003 - accuracy: 0.7445\n"
     ]
    },
    {
     "data": {
      "text/plain": [
       "<keras.callbacks.callbacks.History at 0x1ab52f53ef0>"
      ]
     },
     "execution_count": 11,
     "metadata": {},
     "output_type": "execute_result"
    }
   ],
   "source": [
    "model.fit(X,y, epochs=10)"
   ]
  },
  {
   "cell_type": "code",
   "execution_count": 4,
   "metadata": {},
   "outputs": [],
   "source": [
    "import ipykernel"
   ]
  },
  {
   "cell_type": "code",
   "execution_count": 0,
   "metadata": {
    "colab": {},
    "colab_type": "code",
    "id": "zEhcaT0VcMfL"
   },
   "outputs": [],
   "source": [
    "df_encode=df_train\n",
    "from numpy import array\n",
    "from numpy import argmax\n",
    "from sklearn.preprocessing import LabelEncoder\n",
    "from sklearn.preprocessing import OneHotEncoder\n",
    "onehotencoder = OneHotEncoder()\n",
    "encode = onehotencoder.fit_transform(df_encode.target.values.reshape(-1,1)).toarray()\n",
    "dfOneHot = pd.DataFrame(encode)\n",
    "#print(dfOneHot) \n",
    "df = pd.concat([df_encode, dfOneHot], axis=1)\n",
    "df=df.drop(['Image','target','pixels'],axis=1)"
   ]
  },
  {
   "cell_type": "code",
   "execution_count": 0,
   "metadata": {
    "colab": {
     "base_uri": "https://localhost:8080/",
     "height": 405
    },
    "colab_type": "code",
    "id": "qp5D1furSTke",
    "outputId": "b38ece5b-797c-4acb-d7c2-e828cd6f8954"
   },
   "outputs": [
    {
     "data": {
      "text/html": [
       "<div>\n",
       "<style scoped>\n",
       "    .dataframe tbody tr th:only-of-type {\n",
       "        vertical-align: middle;\n",
       "    }\n",
       "\n",
       "    .dataframe tbody tr th {\n",
       "        vertical-align: top;\n",
       "    }\n",
       "\n",
       "    .dataframe thead th {\n",
       "        text-align: right;\n",
       "    }\n",
       "</style>\n",
       "<table border=\"1\" class=\"dataframe\">\n",
       "  <thead>\n",
       "    <tr style=\"text-align: right;\">\n",
       "      <th></th>\n",
       "      <th>Image</th>\n",
       "      <th>target</th>\n",
       "      <th>pixels</th>\n",
       "      <th>0</th>\n",
       "      <th>1</th>\n",
       "      <th>2</th>\n",
       "      <th>3</th>\n",
       "      <th>4</th>\n",
       "      <th>5</th>\n",
       "      <th>6</th>\n",
       "      <th>7</th>\n",
       "    </tr>\n",
       "  </thead>\n",
       "  <tbody>\n",
       "    <tr>\n",
       "      <th>0</th>\n",
       "      <td>96.jpg</td>\n",
       "      <td>manipuri</td>\n",
       "      <td>NaN</td>\n",
       "      <td>0.0</td>\n",
       "      <td>0.0</td>\n",
       "      <td>0.0</td>\n",
       "      <td>0.0</td>\n",
       "      <td>1.0</td>\n",
       "      <td>0.0</td>\n",
       "      <td>0.0</td>\n",
       "      <td>0.0</td>\n",
       "    </tr>\n",
       "    <tr>\n",
       "      <th>1</th>\n",
       "      <td>163.jpg</td>\n",
       "      <td>bharatanatyam</td>\n",
       "      <td>NaN</td>\n",
       "      <td>1.0</td>\n",
       "      <td>0.0</td>\n",
       "      <td>0.0</td>\n",
       "      <td>0.0</td>\n",
       "      <td>0.0</td>\n",
       "      <td>0.0</td>\n",
       "      <td>0.0</td>\n",
       "      <td>0.0</td>\n",
       "    </tr>\n",
       "    <tr>\n",
       "      <th>2</th>\n",
       "      <td>450.jpg</td>\n",
       "      <td>odissi</td>\n",
       "      <td>NaN</td>\n",
       "      <td>0.0</td>\n",
       "      <td>0.0</td>\n",
       "      <td>0.0</td>\n",
       "      <td>0.0</td>\n",
       "      <td>0.0</td>\n",
       "      <td>0.0</td>\n",
       "      <td>1.0</td>\n",
       "      <td>0.0</td>\n",
       "    </tr>\n",
       "    <tr>\n",
       "      <th>3</th>\n",
       "      <td>219.jpg</td>\n",
       "      <td>kathakali</td>\n",
       "      <td>NaN</td>\n",
       "      <td>0.0</td>\n",
       "      <td>0.0</td>\n",
       "      <td>1.0</td>\n",
       "      <td>0.0</td>\n",
       "      <td>0.0</td>\n",
       "      <td>0.0</td>\n",
       "      <td>0.0</td>\n",
       "      <td>0.0</td>\n",
       "    </tr>\n",
       "    <tr>\n",
       "      <th>4</th>\n",
       "      <td>455.jpg</td>\n",
       "      <td>odissi</td>\n",
       "      <td>NaN</td>\n",
       "      <td>0.0</td>\n",
       "      <td>0.0</td>\n",
       "      <td>0.0</td>\n",
       "      <td>0.0</td>\n",
       "      <td>0.0</td>\n",
       "      <td>0.0</td>\n",
       "      <td>1.0</td>\n",
       "      <td>0.0</td>\n",
       "    </tr>\n",
       "    <tr>\n",
       "      <th>...</th>\n",
       "      <td>...</td>\n",
       "      <td>...</td>\n",
       "      <td>...</td>\n",
       "      <td>...</td>\n",
       "      <td>...</td>\n",
       "      <td>...</td>\n",
       "      <td>...</td>\n",
       "      <td>...</td>\n",
       "      <td>...</td>\n",
       "      <td>...</td>\n",
       "      <td>...</td>\n",
       "    </tr>\n",
       "    <tr>\n",
       "      <th>359</th>\n",
       "      <td>72.jpg</td>\n",
       "      <td>manipuri</td>\n",
       "      <td>NaN</td>\n",
       "      <td>0.0</td>\n",
       "      <td>0.0</td>\n",
       "      <td>0.0</td>\n",
       "      <td>0.0</td>\n",
       "      <td>1.0</td>\n",
       "      <td>0.0</td>\n",
       "      <td>0.0</td>\n",
       "      <td>0.0</td>\n",
       "    </tr>\n",
       "    <tr>\n",
       "      <th>360</th>\n",
       "      <td>253.jpg</td>\n",
       "      <td>mohiniyattam</td>\n",
       "      <td>NaN</td>\n",
       "      <td>0.0</td>\n",
       "      <td>0.0</td>\n",
       "      <td>0.0</td>\n",
       "      <td>0.0</td>\n",
       "      <td>0.0</td>\n",
       "      <td>1.0</td>\n",
       "      <td>0.0</td>\n",
       "      <td>0.0</td>\n",
       "    </tr>\n",
       "    <tr>\n",
       "      <th>361</th>\n",
       "      <td>404.jpg</td>\n",
       "      <td>kuchipudi</td>\n",
       "      <td>NaN</td>\n",
       "      <td>0.0</td>\n",
       "      <td>0.0</td>\n",
       "      <td>0.0</td>\n",
       "      <td>1.0</td>\n",
       "      <td>0.0</td>\n",
       "      <td>0.0</td>\n",
       "      <td>0.0</td>\n",
       "      <td>0.0</td>\n",
       "    </tr>\n",
       "    <tr>\n",
       "      <th>362</th>\n",
       "      <td>89.jpg</td>\n",
       "      <td>manipuri</td>\n",
       "      <td>NaN</td>\n",
       "      <td>0.0</td>\n",
       "      <td>0.0</td>\n",
       "      <td>0.0</td>\n",
       "      <td>0.0</td>\n",
       "      <td>1.0</td>\n",
       "      <td>0.0</td>\n",
       "      <td>0.0</td>\n",
       "      <td>0.0</td>\n",
       "    </tr>\n",
       "    <tr>\n",
       "      <th>363</th>\n",
       "      <td>311.jpg</td>\n",
       "      <td>mohiniyattam</td>\n",
       "      <td>NaN</td>\n",
       "      <td>0.0</td>\n",
       "      <td>0.0</td>\n",
       "      <td>0.0</td>\n",
       "      <td>0.0</td>\n",
       "      <td>0.0</td>\n",
       "      <td>1.0</td>\n",
       "      <td>0.0</td>\n",
       "      <td>0.0</td>\n",
       "    </tr>\n",
       "  </tbody>\n",
       "</table>\n",
       "<p>364 rows × 11 columns</p>\n",
       "</div>"
      ],
      "text/plain": [
       "       Image         target  pixels    0    1    2    3    4    5    6    7\n",
       "0     96.jpg       manipuri     NaN  0.0  0.0  0.0  0.0  1.0  0.0  0.0  0.0\n",
       "1    163.jpg  bharatanatyam     NaN  1.0  0.0  0.0  0.0  0.0  0.0  0.0  0.0\n",
       "2    450.jpg         odissi     NaN  0.0  0.0  0.0  0.0  0.0  0.0  1.0  0.0\n",
       "3    219.jpg      kathakali     NaN  0.0  0.0  1.0  0.0  0.0  0.0  0.0  0.0\n",
       "4    455.jpg         odissi     NaN  0.0  0.0  0.0  0.0  0.0  0.0  1.0  0.0\n",
       "..       ...            ...     ...  ...  ...  ...  ...  ...  ...  ...  ...\n",
       "359   72.jpg       manipuri     NaN  0.0  0.0  0.0  0.0  1.0  0.0  0.0  0.0\n",
       "360  253.jpg   mohiniyattam     NaN  0.0  0.0  0.0  0.0  0.0  1.0  0.0  0.0\n",
       "361  404.jpg      kuchipudi     NaN  0.0  0.0  0.0  1.0  0.0  0.0  0.0  0.0\n",
       "362   89.jpg       manipuri     NaN  0.0  0.0  0.0  0.0  1.0  0.0  0.0  0.0\n",
       "363  311.jpg   mohiniyattam     NaN  0.0  0.0  0.0  0.0  0.0  1.0  0.0  0.0\n",
       "\n",
       "[364 rows x 11 columns]"
      ]
     },
     "execution_count": 33,
     "metadata": {
      "tags": []
     },
     "output_type": "execute_result"
    }
   ],
   "source": [
    "\n",
    "adf"
   ]
  },
  {
   "cell_type": "code",
   "execution_count": 0,
   "metadata": {
    "colab": {},
    "colab_type": "code",
    "id": "kgOe2Jb-TV1d"
   },
   "outputs": [],
   "source": [
    "train_pixel.drop(['Unnamed: 0'],axis=1,inplace=True)"
   ]
  },
  {
   "cell_type": "code",
   "execution_count": 0,
   "metadata": {
    "colab": {},
    "colab_type": "code",
    "id": "X_m3Q8WeTcdb"
   },
   "outputs": [],
   "source": [
    "df_train=pd.read_csv(\"train_pixel_orig.csv\")"
   ]
  },
  {
   "cell_type": "code",
   "execution_count": 0,
   "metadata": {
    "colab": {},
    "colab_type": "code",
    "id": "P4UCU5ZaUi32"
   },
   "outputs": [],
   "source": [
    "trainX=df_train.loc[:,['pixels']]"
   ]
  },
  {
   "cell_type": "code",
   "execution_count": 0,
   "metadata": {
    "colab": {
     "base_uri": "https://localhost:8080/",
     "height": 204
    },
    "colab_type": "code",
    "id": "2V6Xo389Wfd3",
    "outputId": "bc0b5bbd-20d2-4748-961d-cd3cd2fca35b"
   },
   "outputs": [
    {
     "data": {
      "text/html": [
       "<div>\n",
       "<style scoped>\n",
       "    .dataframe tbody tr th:only-of-type {\n",
       "        vertical-align: middle;\n",
       "    }\n",
       "\n",
       "    .dataframe tbody tr th {\n",
       "        vertical-align: top;\n",
       "    }\n",
       "\n",
       "    .dataframe thead th {\n",
       "        text-align: right;\n",
       "    }\n",
       "</style>\n",
       "<table border=\"1\" class=\"dataframe\">\n",
       "  <thead>\n",
       "    <tr style=\"text-align: right;\">\n",
       "      <th></th>\n",
       "      <th>target</th>\n",
       "    </tr>\n",
       "  </thead>\n",
       "  <tbody>\n",
       "    <tr>\n",
       "      <th>0</th>\n",
       "      <td>manipuri</td>\n",
       "    </tr>\n",
       "    <tr>\n",
       "      <th>1</th>\n",
       "      <td>bharatanatyam</td>\n",
       "    </tr>\n",
       "    <tr>\n",
       "      <th>2</th>\n",
       "      <td>odissi</td>\n",
       "    </tr>\n",
       "    <tr>\n",
       "      <th>3</th>\n",
       "      <td>kathakali</td>\n",
       "    </tr>\n",
       "    <tr>\n",
       "      <th>4</th>\n",
       "      <td>odissi</td>\n",
       "    </tr>\n",
       "  </tbody>\n",
       "</table>\n",
       "</div>"
      ],
      "text/plain": [
       "          target\n",
       "0       manipuri\n",
       "1  bharatanatyam\n",
       "2         odissi\n",
       "3      kathakali\n",
       "4         odissi"
      ]
     },
     "execution_count": 8,
     "metadata": {
      "tags": []
     },
     "output_type": "execute_result"
    }
   ],
   "source": [
    "trainY=df_train.loc[:,['target']]\n",
    "trainY.head()"
   ]
  },
  {
   "cell_type": "code",
   "execution_count": 0,
   "metadata": {
    "colab": {
     "base_uri": "https://localhost:8080/",
     "height": 51
    },
    "colab_type": "code",
    "id": "KHV4D1djcm1g",
    "outputId": "24522fff-5b8f-48ad-8e46-b18f41612a03"
   },
   "outputs": [
    {
     "data": {
      "text/plain": [
       "array(['manipuri', 'bharatanatyam', 'odissi', 'kathakali', 'kathak',\n",
       "       'sattriya', 'kuchipudi', 'mohiniyattam'], dtype=object)"
      ]
     },
     "execution_count": 142,
     "metadata": {
      "tags": []
     },
     "output_type": "execute_result"
    }
   ],
   "source": [
    "trainY.target.unique()"
   ]
  },
  {
   "cell_type": "code",
   "execution_count": 0,
   "metadata": {
    "colab": {},
    "colab_type": "code",
    "id": "HbH2po7RdGbh"
   },
   "outputs": [],
   "source": [
    "trainY[\"target\"].replace({'manipuri':1, 'bharatanatyam':2, 'odissi':3, 'kathakali':4, 'kathak':5,'sattriya':6, 'kuchipudi':7, 'mohiniyattam':8}, inplace=True)"
   ]
  },
  {
   "cell_type": "code",
   "execution_count": 7,
   "metadata": {
    "colab": {},
    "colab_type": "code",
    "id": "ya6qe4E9WmWN"
   },
   "outputs": [],
   "source": [
    "import keras\n",
    "from keras.models import Sequential\n",
    "from keras.layers import Dense, Dropout, Flatten\n",
    "from keras.layers import Conv2D, MaxPooling2D\n",
    "from keras.utils import to_categorical\n",
    "from keras.preprocessing import image\n",
    "import numpy as np\n",
    "import pandas as pd\n",
    "import matplotlib.pyplot as plt\n",
    "from sklearn.model_selection import train_test_split\n",
    "from keras.utils import to_categorical\n",
    "from tqdm import tqdm\n",
    "model = Sequential()\n",
    "model.add(Conv2D(32, kernel_size=(3, 3),activation='relu',input_shape=(600,600,1)))\n",
    "model.add(MaxPooling2D((2, 2)))\n",
    "model.add(Dropout(0.4))\n",
    "model.add(Conv2D(64, (3, 3), activation='relu', kernel_initializer='he_uniform', padding='same'))\n",
    "model.add(MaxPooling2D((2, 2)))\n",
    "model.add(Dropout(0.4))\n",
    "model.add(Conv2D(128, (3, 3), activation='relu', kernel_initializer='he_uniform', padding='same'))\n",
    "model.add(MaxPooling2D((2, 2)))\n",
    "model.add(Dropout(0.4))\n",
    "# model.add(Conv2D(256, (3, 3), activation='relu', kernel_initializer='he_uniform', padding='same'))\n",
    "# model.add(MaxPooling2D((2, 2)))\n",
    "# model.add(Dropout(0.4))\n",
    "model.add(Flatten())\n",
    "# model.add(Dense(512, activation='relu'))\n",
    "# model.add(Dropout(0.5))\n",
    "model.add(Dense(256, activation='relu'))\n",
    "model.add(Dropout(0.5))\n",
    "model.add(Dense(128, activation='relu'))\n",
    "model.add(Dropout(0.5))\n",
    "model.add(Dense(8,activation='softmax'))"
   ]
  },
  {
   "cell_type": "code",
   "execution_count": 0,
   "metadata": {
    "colab": {
     "base_uri": "https://localhost:8080/",
     "height": 221
    },
    "colab_type": "code",
    "id": "WsDCWhmpg7kV",
    "outputId": "3639011f-02fc-4d24-82c7-f8889fe9ed6e",
    "scrolled": true
   },
   "outputs": [
    {
     "name": "stdout",
     "output_type": "stream",
     "text": [
      "0      [[[1, 1, 1], [1, 1, 1], [1, 1, 1], [1, 1, 1], ...\n",
      "1      [[[16, 8, 9], [16, 8, 9], [16, 8, 9], [17, 9, ...\n",
      "2      [[[11, 14, 18], [12, 15, 19], [13, 16, 20], [1...\n",
      "3      [[[7, 21, 27], [6, 20, 26], [5, 19, 25], [5, 1...\n",
      "4      [[[0, 0, 0], [0, 0, 0], [0, 0, 0], [0, 0, 0], ...\n",
      "                             ...                        \n",
      "359    [[[4, 4, 4], [4, 4, 4], [4, 4, 4], [5, 5, 5], ...\n",
      "360    [[[38, 34, 33], [39, 35, 34], [40, 36, 35], [3...\n",
      "361    [[[247, 247, 247], [247, 247, 247], [247, 247,...\n",
      "362    [[[8, 5, 14], [9, 6, 15], [10, 7, 16], [12, 9,...\n",
      "363    [[[0, 0, 0], [0, 0, 0], [0, 0, 0], [0, 0, 0], ...\n",
      "Name: pixels, Length: 364, dtype: object\n"
     ]
    }
   ],
   "source": [
    "for key,value in trainX.iteritems():\n",
    "  trainX[key]=trainX[key].to_numpy()\n",
    "  print(trainX[key])\n",
    "  \n"
   ]
  },
  {
   "cell_type": "code",
   "execution_count": 0,
   "metadata": {
    "colab": {
     "base_uri": "https://localhost:8080/",
     "height": 255
    },
    "colab_type": "code",
    "id": "9CWJrEURh1z_",
    "outputId": "18bc3d1d-7dfe-425f-cc55-46fa323d9b73"
   },
   "outputs": [
    {
     "name": "stdout",
     "output_type": "stream",
     "text": [
      "                                                pixels\n",
      "0    [[[1, 1, 1], [1, 1, 1], [1, 1, 1], [1, 1, 1], ...\n",
      "1    [[[16, 8, 9], [16, 8, 9], [16, 8, 9], [17, 9, ...\n",
      "2    [[[11, 14, 18], [12, 15, 19], [13, 16, 20], [1...\n",
      "3    [[[7, 21, 27], [6, 20, 26], [5, 19, 25], [5, 1...\n",
      "4    [[[0, 0, 0], [0, 0, 0], [0, 0, 0], [0, 0, 0], ...\n",
      "..                                                 ...\n",
      "359  [[[4, 4, 4], [4, 4, 4], [4, 4, 4], [5, 5, 5], ...\n",
      "360  [[[38, 34, 33], [39, 35, 34], [40, 36, 35], [3...\n",
      "361  [[[247, 247, 247], [247, 247, 247], [247, 247,...\n",
      "362  [[[8, 5, 14], [9, 6, 15], [10, 7, 16], [12, 9,...\n",
      "363  [[[0, 0, 0], [0, 0, 0], [0, 0, 0], [0, 0, 0], ...\n",
      "\n",
      "[364 rows x 1 columns]\n"
     ]
    }
   ],
   "source": [
    "print(trainX)"
   ]
  },
  {
   "cell_type": "code",
   "execution_count": 8,
   "metadata": {
    "colab": {},
    "colab_type": "code",
    "id": "kqqqSnfEZXZj"
   },
   "outputs": [],
   "source": [
    "model.compile(loss='categorical_crossentropy',optimizer='Adam',metrics=['accuracy'])"
   ]
  },
  {
   "cell_type": "code",
   "execution_count": null,
   "metadata": {
    "colab": {
     "base_uri": "https://localhost:8080/",
     "height": 51
    },
    "colab_type": "code",
    "id": "8xxvs38jHuAC",
    "outputId": "86dd5ede-c613-465b-e9eb-f42d9737c10a"
   },
   "outputs": [
    {
     "name": "stdout",
     "output_type": "stream",
     "text": [
      "Train on 254 samples, validate on 110 samples\n",
      "Epoch 1/10\n"
     ]
    }
   ],
   "source": [
    "model.fit(X_train,y_train,epochs=10,batch_size=128,validation_data=(X_test, y_test))"
   ]
  },
  {
   "cell_type": "code",
   "execution_count": 44,
   "metadata": {
    "colab": {},
    "colab_type": "code",
    "id": "R0bhSsPpcyXv"
   },
   "outputs": [],
   "source": [
    "model.save('model_jupyter_400_400.h5')"
   ]
  },
  {
   "cell_type": "code",
   "execution_count": 0,
   "metadata": {
    "colab": {},
    "colab_type": "code",
    "id": "arv0WMQL1V7K"
   },
   "outputs": [],
   "source": [
    "model = keras.models.load_model('model_200_300_100epochs.h5')"
   ]
  },
  {
   "cell_type": "code",
   "execution_count": 19,
   "metadata": {
    "colab": {},
    "colab_type": "code",
    "id": "3CPENPyd1e7H"
   },
   "outputs": [],
   "source": [
    "df_test=pd.read_csv('data/dataset/test.csv')"
   ]
  },
  {
   "cell_type": "code",
   "execution_count": 27,
   "metadata": {
    "colab": {},
    "colab_type": "code",
    "id": "7QJWAUBXQTPs",
    "scrolled": true
   },
   "outputs": [],
   "source": [
    "from keras.preprocessing import image\n",
    "files = glob2.glob (\"data/dataset/test/*.jpg\")\n",
    "train_image=[]\n",
    "for i in files:\n",
    "  img=cv2.imread(i)\n",
    "  #print(img.shape)\n",
    "  img=cv2.resize(img,(28,28))\n",
    "  #img= cv2.cvtColor(img, cv2.COLOR_BGR2GRAY)\n",
    "  #print(img.shape)\n",
    "  img=image.img_to_array(img)\n",
    "  img=img/255\n",
    "  out=model.predict_classes(img.reshape(1,28,28,3))\n",
    "  arr=np.array(['manipuri', 'bharatanatyam', 'odissi', 'kathakali', 'kathak','sattriya', 'kuchipudi', 'mohiniyattam'])\n",
    "  b=i.split(\"test\")[1]\n",
    "  b=b.strip('\\ ')\n",
    "  #print(b)\n",
    "  #print(i)\n",
    "  #m=re.search(r'\\(.+?).', i).group(1)\n",
    "  #print(m)\n",
    "#   p=m+\".jpg\"\n",
    "#   print(arr[int(m)-1])\n",
    "  df_test.loc[df_test['Image']==b,'Output']=arr[out-1]\n",
    "  #print(model.predict_classes(img.reshape(1,800,600,3)),i)\n",
    "  #train_image.append(img)\n",
    "#X=np.array(train_image)"
   ]
  },
  {
   "cell_type": "code",
   "execution_count": 28,
   "metadata": {
    "colab": {
     "base_uri": "https://localhost:8080/",
     "height": 197
    },
    "colab_type": "code",
    "id": "_-XXXlSTc5LL",
    "outputId": "9cbcecb4-6322-4770-bb03-3dfdf5da3f5c"
   },
   "outputs": [
    {
     "data": {
      "text/html": [
       "<div>\n",
       "<style scoped>\n",
       "    .dataframe tbody tr th:only-of-type {\n",
       "        vertical-align: middle;\n",
       "    }\n",
       "\n",
       "    .dataframe tbody tr th {\n",
       "        vertical-align: top;\n",
       "    }\n",
       "\n",
       "    .dataframe thead th {\n",
       "        text-align: right;\n",
       "    }\n",
       "</style>\n",
       "<table border=\"1\" class=\"dataframe\">\n",
       "  <thead>\n",
       "    <tr style=\"text-align: right;\">\n",
       "      <th></th>\n",
       "      <th>Image</th>\n",
       "      <th>Output</th>\n",
       "    </tr>\n",
       "  </thead>\n",
       "  <tbody>\n",
       "    <tr>\n",
       "      <th>0</th>\n",
       "      <td>508.jpg</td>\n",
       "      <td>sattriya</td>\n",
       "    </tr>\n",
       "    <tr>\n",
       "      <th>1</th>\n",
       "      <td>246.jpg</td>\n",
       "      <td>sattriya</td>\n",
       "    </tr>\n",
       "    <tr>\n",
       "      <th>2</th>\n",
       "      <td>473.jpg</td>\n",
       "      <td>sattriya</td>\n",
       "    </tr>\n",
       "    <tr>\n",
       "      <th>3</th>\n",
       "      <td>485.jpg</td>\n",
       "      <td>mohiniyattam</td>\n",
       "    </tr>\n",
       "    <tr>\n",
       "      <th>4</th>\n",
       "      <td>128.jpg</td>\n",
       "      <td>sattriya</td>\n",
       "    </tr>\n",
       "  </tbody>\n",
       "</table>\n",
       "</div>"
      ],
      "text/plain": [
       "     Image        Output\n",
       "0  508.jpg      sattriya\n",
       "1  246.jpg      sattriya\n",
       "2  473.jpg      sattriya\n",
       "3  485.jpg  mohiniyattam\n",
       "4  128.jpg      sattriya"
      ]
     },
     "execution_count": 28,
     "metadata": {},
     "output_type": "execute_result"
    }
   ],
   "source": [
    "df_test.head()"
   ]
  },
  {
   "cell_type": "code",
   "execution_count": 29,
   "metadata": {
    "colab": {},
    "colab_type": "code",
    "id": "f6FFNojPKix9"
   },
   "outputs": [],
   "source": [
    "df_test.to_csv('test_28_28.csv')"
   ]
  },
  {
   "cell_type": "code",
   "execution_count": null,
   "metadata": {
    "colab": {},
    "colab_type": "code",
    "id": "mCGIqud2KpDC"
   },
   "outputs": [],
   "source": []
  },
  {
   "cell_type": "markdown",
   "metadata": {},
   "source": [
    "## Using SVM Classifier"
   ]
  },
  {
   "cell_type": "code",
   "execution_count": 7,
   "metadata": {},
   "outputs": [],
   "source": [
    "import os\n",
    "\n",
    "import matplotlib as mpl\n",
    "import matplotlib.pyplot as plt\n",
    "from IPython.display import display\n",
    "%matplotlib inline\n",
    "\n",
    "import pandas as pd\n",
    "import numpy as np\n",
    "\n",
    "from PIL import Image\n",
    "\n",
    "from skimage.feature import hog\n",
    "from skimage.color import rgb2grey\n",
    "\n",
    "from sklearn.model_selection import train_test_split\n",
    "from sklearn.metrics import accuracy_score\n",
    "from sklearn.preprocessing import StandardScaler\n",
    "from sklearn.decomposition import PCA\n",
    "from sklearn.svm import SVC\n",
    "\n",
    "from sklearn.metrics import roc_curve, auc"
   ]
  },
  {
   "cell_type": "code",
   "execution_count": 2,
   "metadata": {},
   "outputs": [],
   "source": [
    "df_train=pd.read_csv(\"data/dataset/train.csv\")"
   ]
  },
  {
   "cell_type": "code",
   "execution_count": 8,
   "metadata": {},
   "outputs": [],
   "source": [
    "# load and display an image with Matplotlib\n",
    "import cv2\n",
    "import glob2\n",
    "import numpy as np\n",
    "import re\n",
    "from matplotlib import image\n",
    "from matplotlib import pyplot\n",
    "from keras.utils import to_categorical\n",
    "from keras.preprocessing import image\n",
    "import keras\n",
    "from keras.models import Sequential\n",
    "from keras.layers import Dense, Dropout, Flatten\n",
    "from keras.layers import Conv2D, MaxPooling2D\n",
    "from keras.utils import to_categorical\n",
    "from keras.preprocessing import image\n",
    "import numpy as np\n",
    "import pandas as pd\n",
    "import matplotlib.pyplot as plt\n",
    "from sklearn.model_selection import train_test_split\n",
    "from keras.utils import to_categorical\n",
    "from tqdm import tqdm\n",
    "from skimage.transform import resize\n",
    "\n",
    "pd.options.mode.chained_assignment = None\n",
    "files = glob2.glob (\"data/dataset/train/*.jpg\")\n",
    "train_image=[]\n",
    "flat_data = []\n",
    "for i in files:\n",
    "  img=cv2.imread(i)\n",
    "  img_resized = resize(img, (600,600), anti_aliasing=True, mode='reflect')\n",
    "  flat_data.append(img_resized.flatten())\n",
    "  train_image.append(img_resized)\n",
    "flat_data = np.array(flat_data)\n",
    "X=np.array(train_image)\n"
   ]
  },
  {
   "cell_type": "code",
   "execution_count": 23,
   "metadata": {},
   "outputs": [],
   "source": [
    "from sklearn.preprocessing import LabelEncoder\n",
    "import numpy as np\n",
    "y=df_train['target']\n",
    "y = np.array(y)\n",
    "\n",
    "# label_encoder = LabelEncoder()\n",
    "# vec = label_encoder.fit_transform(code)\n",
    "# from keras.utils import to_categorical\n",
    "\n",
    "# y=to_categorical(vec)"
   ]
  },
  {
   "cell_type": "code",
   "execution_count": 25,
   "metadata": {},
   "outputs": [
    {
     "data": {
      "text/plain": [
       "(364,)"
      ]
     },
     "execution_count": 25,
     "metadata": {},
     "output_type": "execute_result"
    }
   ],
   "source": [
    "y.shape"
   ]
  },
  {
   "cell_type": "code",
   "execution_count": 21,
   "metadata": {},
   "outputs": [
    {
     "data": {
      "text/plain": [
       "array([[0.        , 0.        , 0.        , ..., 0.05494118, 0.03533333,\n",
       "        0.04317647],\n",
       "       [0.11764706, 0.13333333, 0.1372549 , ..., 0.1190098 , 0.15038235,\n",
       "        0.14646078],\n",
       "       [0.0627451 , 0.0627451 , 0.0627451 , ..., 0.19836275, 0.19444118,\n",
       "        0.20517974],\n",
       "       ...,\n",
       "       [0.00392157, 0.00392157, 0.00392157, ..., 0.1553462 , 0.19886642,\n",
       "        0.30359988],\n",
       "       [0.07897821, 0.07897821, 0.07897821, ..., 0.68413943, 0.80791068,\n",
       "        0.99913943],\n",
       "       [0.13469608, 0.1072451 , 0.09548039, ..., 0.33320976, 0.34889604,\n",
       "        0.42084702]])"
      ]
     },
     "execution_count": 21,
     "metadata": {},
     "output_type": "execute_result"
    }
   ],
   "source": [
    "flat_data"
   ]
  },
  {
   "cell_type": "code",
   "execution_count": null,
   "metadata": {},
   "outputs": [],
   "source": [
    "X_train, X_test, y_train, y_test = train_test_split(flat_data, y, random_state=42, test_size=0.3)"
   ]
  },
  {
   "cell_type": "code",
   "execution_count": 26,
   "metadata": {},
   "outputs": [
    {
     "name": "stderr",
     "output_type": "stream",
     "text": [
      "C:\\Users\\dmsss\\Anaconda3\\lib\\site-packages\\sklearn\\svm\\base.py:193: FutureWarning: The default value of gamma will change from 'auto' to 'scale' in version 0.22 to account better for unscaled features. Set gamma explicitly to 'auto' or 'scale' to avoid this warning.\n",
      "  \"avoid this warning.\", FutureWarning)\n"
     ]
    }
   ],
   "source": [
    "from sklearn import svm, metrics, datasets\n",
    "from sklearn.model_selection import GridSearchCV, train_test_split\n",
    "svc = svm.SVC()\n",
    "model=svc.fit(flat_data, y)"
   ]
  },
  {
   "cell_type": "code",
   "execution_count": 29,
   "metadata": {},
   "outputs": [
    {
     "data": {
      "text/plain": [
       "SVC(C=1.0, cache_size=200, class_weight=None, coef0=0.0,\n",
       "    decision_function_shape='ovr', degree=3, gamma='auto_deprecated',\n",
       "    kernel='rbf', max_iter=-1, probability=False, random_state=None,\n",
       "    shrinking=True, tol=0.001, verbose=False)"
      ]
     },
     "execution_count": 29,
     "metadata": {},
     "output_type": "execute_result"
    }
   ],
   "source": [
    "model"
   ]
  },
  {
   "cell_type": "code",
   "execution_count": 30,
   "metadata": {},
   "outputs": [],
   "source": [
    "y_pred = clf.predict(X_test)"
   ]
  },
  {
   "cell_type": "code",
   "execution_count": 32,
   "metadata": {
    "scrolled": true
   },
   "outputs": [
    {
     "data": {
      "text/plain": [
       "array(['mohiniyattam', 'sattriya', 'mohiniyattam', 'mohiniyattam',\n",
       "       'bharatanatyam', 'sattriya', 'sattriya', 'sattriya',\n",
       "       'mohiniyattam', 'sattriya', 'sattriya', 'sattriya', 'sattriya',\n",
       "       'sattriya', 'odissi', 'sattriya', 'sattriya', 'bharatanatyam',\n",
       "       'odissi', 'mohiniyattam', 'mohiniyattam', 'mohiniyattam',\n",
       "       'bharatanatyam', 'sattriya', 'bharatanatyam', 'sattriya',\n",
       "       'sattriya', 'sattriya', 'mohiniyattam', 'sattriya', 'sattriya',\n",
       "       'sattriya', 'sattriya', 'mohiniyattam', 'mohiniyattam',\n",
       "       'mohiniyattam', 'sattriya', 'mohiniyattam', 'mohiniyattam',\n",
       "       'bharatanatyam', 'sattriya', 'sattriya', 'mohiniyattam',\n",
       "       'sattriya', 'sattriya', 'mohiniyattam', 'mohiniyattam', 'sattriya',\n",
       "       'mohiniyattam', 'sattriya', 'sattriya', 'sattriya', 'sattriya',\n",
       "       'mohiniyattam', 'sattriya', 'mohiniyattam', 'mohiniyattam',\n",
       "       'mohiniyattam', 'odissi', 'sattriya', 'sattriya', 'odissi',\n",
       "       'mohiniyattam', 'mohiniyattam', 'odissi', 'sattriya', 'sattriya',\n",
       "       'mohiniyattam', 'sattriya', 'sattriya', 'mohiniyattam',\n",
       "       'mohiniyattam', 'mohiniyattam', 'mohiniyattam', 'mohiniyattam',\n",
       "       'sattriya', 'sattriya', 'mohiniyattam', 'mohiniyattam', 'sattriya',\n",
       "       'mohiniyattam', 'odissi', 'mohiniyattam', 'mohiniyattam',\n",
       "       'sattriya', 'sattriya', 'sattriya', 'sattriya', 'mohiniyattam',\n",
       "       'mohiniyattam', 'mohiniyattam', 'mohiniyattam', 'mohiniyattam',\n",
       "       'sattriya', 'sattriya', 'mohiniyattam', 'mohiniyattam', 'odissi',\n",
       "       'mohiniyattam', 'sattriya', 'sattriya', 'odissi', 'sattriya',\n",
       "       'mohiniyattam', 'sattriya', 'mohiniyattam', 'sattriya',\n",
       "       'mohiniyattam', 'sattriya', 'sattriya'], dtype=object)"
      ]
     },
     "execution_count": 32,
     "metadata": {},
     "output_type": "execute_result"
    }
   ],
   "source": [
    "y_pred"
   ]
  },
  {
   "cell_type": "code",
   "execution_count": 20,
   "metadata": {},
   "outputs": [
    {
     "data": {
      "text/plain": [
       "(254, 500, 500, 3)"
      ]
     },
     "execution_count": 20,
     "metadata": {},
     "output_type": "execute_result"
    }
   ],
   "source": [
    "X_train.shape"
   ]
  },
  {
   "cell_type": "code",
   "execution_count": 16,
   "metadata": {},
   "outputs": [
    {
     "data": {
      "text/plain": [
       "(254, 8)"
      ]
     },
     "execution_count": 16,
     "metadata": {},
     "output_type": "execute_result"
    }
   ],
   "source": [
    "y_train.shape"
   ]
  },
  {
   "cell_type": "code",
   "execution_count": 17,
   "metadata": {},
   "outputs": [
    {
     "data": {
      "text/plain": [
       "array([[0., 0., 0., ..., 0., 1., 0.],\n",
       "       [0., 0., 0., ..., 0., 0., 0.],\n",
       "       [0., 1., 0., ..., 0., 0., 0.],\n",
       "       ...,\n",
       "       [0., 1., 0., ..., 0., 0., 0.],\n",
       "       [0., 0., 0., ..., 1., 0., 0.],\n",
       "       [0., 0., 0., ..., 0., 0., 1.]], dtype=float32)"
      ]
     },
     "execution_count": 17,
     "metadata": {},
     "output_type": "execute_result"
    }
   ],
   "source": [
    "y_train"
   ]
  },
  {
   "cell_type": "code",
   "execution_count": null,
   "metadata": {},
   "outputs": [],
   "source": [
    "from keras.preprocessing import image\n",
    "files = glob2.glob (\"data/dataset/test/*.jpg\")\n",
    "train_image=[]\n",
    "for i in files:\n",
    "  img=cv2.imread(i)\n",
    "  img_resized = resize(img, (600,600), anti_aliasing=True, mode='reflect')\n",
    "  \n",
    "  #print(img.shape)\n",
    "#   img=cv2.resize(img,(400,400))\n",
    "#   img= cv2.cvtColor(img, cv2.COLOR_BGR2GRAY)\n",
    "#   #print(img.shape)\n",
    "#   img=image.img_to_array(img)\n",
    "#   img=img/255\n",
    "  out=model.predict((img_resized.flatten()).reshape(1, -1))\n",
    "  #arr=np.array(['manipuri', 'bharatanatyam', 'odissi', 'kathakali', 'kathak','sattriya', 'kuchipudi', 'mohiniyattam'])\n",
    "  b=i.split(\"test\")[1]\n",
    "  b=b.strip('\\ ')\n",
    "  #print(b)\n",
    "  #print(i)\n",
    "  #m=re.search(r'\\(.+?).', i).group(1)\n",
    "  #print(m)\n",
    "#   p=m+\".jpg\"\n",
    "#   print(arr[int(m)-1])\n",
    "  df_test.loc[df_test['Image']==b,'Output']=out\n",
    "  #print(model.predict_classes(img.reshape(1,800,600,3)),i)\n",
    "  #train_image.append(img)\n",
    "#X=np.array(train_image)"
   ]
  },
  {
   "cell_type": "code",
   "execution_count": 42,
   "metadata": {},
   "outputs": [
    {
     "data": {
      "text/plain": [
       "array([[0.00784314, 0.07254902, 0.        , ..., 0.16078431, 0.26862745,\n",
       "        0.42352941],\n",
       "       [0.14921569, 0.14529412, 0.15313725, ..., 0.29019608, 0.29803922,\n",
       "        0.30196078],\n",
       "       [0.00784314, 0.00784314, 0.00784314, ..., 0.00229412, 0.03921569,\n",
       "        0.05490196],\n",
       "       ...,\n",
       "       [0.035     , 0.03270588, 0.08990196, ..., 0.03137255, 0.05098039,\n",
       "        0.09019608],\n",
       "       [0.        , 0.        , 0.        , ..., 0.01960784, 0.        ,\n",
       "        0.21486275],\n",
       "       [0.63216627, 0.56549961, 0.39687216, ..., 0.2684298 , 0.16253725,\n",
       "        0.01097961]])"
      ]
     },
     "execution_count": 42,
     "metadata": {},
     "output_type": "execute_result"
    }
   ],
   "source": [
    "test"
   ]
  },
  {
   "cell_type": "code",
   "execution_count": 43,
   "metadata": {},
   "outputs": [],
   "source": [
    "pred=clf.predict(test)"
   ]
  },
  {
   "cell_type": "code",
   "execution_count": 52,
   "metadata": {
    "scrolled": true
   },
   "outputs": [
    {
     "data": {
      "text/plain": [
       "array(['mohiniyattam', 'sattriya', 'sattriya', 'mohiniyattam', 'sattriya',\n",
       "       'mohiniyattam', 'sattriya', 'sattriya', 'sattriya', 'sattriya',\n",
       "       'mohiniyattam', 'sattriya', 'sattriya', 'mohiniyattam', 'odissi',\n",
       "       'sattriya', 'sattriya', 'sattriya', 'bharatanatyam', 'sattriya',\n",
       "       'sattriya', 'bharatanatyam', 'sattriya', 'sattriya', 'sattriya',\n",
       "       'mohiniyattam', 'mohiniyattam', 'sattriya', 'sattriya',\n",
       "       'mohiniyattam', 'mohiniyattam', 'sattriya', 'sattriya', 'sattriya',\n",
       "       'mohiniyattam', 'mohiniyattam', 'sattriya', 'mohiniyattam',\n",
       "       'mohiniyattam', 'sattriya', 'mohiniyattam', 'mohiniyattam',\n",
       "       'sattriya', 'mohiniyattam', 'mohiniyattam', 'sattriya',\n",
       "       'mohiniyattam', 'mohiniyattam', 'odissi', 'mohiniyattam',\n",
       "       'mohiniyattam', 'mohiniyattam', 'mohiniyattam', 'mohiniyattam',\n",
       "       'sattriya', 'mohiniyattam', 'mohiniyattam', 'mohiniyattam',\n",
       "       'mohiniyattam', 'mohiniyattam', 'mohiniyattam', 'sattriya',\n",
       "       'mohiniyattam', 'mohiniyattam', 'mohiniyattam', 'mohiniyattam',\n",
       "       'mohiniyattam', 'sattriya', 'sattriya', 'sattriya', 'mohiniyattam',\n",
       "       'mohiniyattam', 'sattriya', 'mohiniyattam', 'bharatanatyam',\n",
       "       'mohiniyattam', 'sattriya', 'mohiniyattam', 'sattriya',\n",
       "       'mohiniyattam', 'mohiniyattam', 'mohiniyattam', 'sattriya',\n",
       "       'mohiniyattam', 'sattriya', 'sattriya', 'mohiniyattam',\n",
       "       'mohiniyattam', 'sattriya', 'mohiniyattam', 'sattriya', 'sattriya',\n",
       "       'sattriya', 'sattriya', 'sattriya', 'sattriya', 'odissi',\n",
       "       'mohiniyattam', 'sattriya', 'sattriya', 'sattriya', 'mohiniyattam',\n",
       "       'mohiniyattam', 'mohiniyattam', 'mohiniyattam', 'mohiniyattam',\n",
       "       'bharatanatyam', 'sattriya', 'sattriya', 'sattriya', 'sattriya',\n",
       "       'sattriya', 'sattriya', 'sattriya', 'mohiniyattam', 'mohiniyattam',\n",
       "       'mohiniyattam', 'sattriya', 'mohiniyattam', 'mohiniyattam',\n",
       "       'sattriya', 'sattriya', 'sattriya', 'sattriya', 'sattriya',\n",
       "       'mohiniyattam', 'mohiniyattam', 'sattriya', 'sattriya', 'sattriya',\n",
       "       'sattriya', 'sattriya', 'odissi', 'sattriya', 'sattriya',\n",
       "       'mohiniyattam', 'sattriya', 'sattriya', 'odissi', 'sattriya',\n",
       "       'mohiniyattam', 'sattriya', 'sattriya', 'sattriya', 'mohiniyattam',\n",
       "       'sattriya', 'sattriya', 'sattriya', 'sattriya', 'mohiniyattam',\n",
       "       'mohiniyattam', 'mohiniyattam', 'odissi', 'mohiniyattam',\n",
       "       'sattriya', 'bharatanatyam'], dtype=object)"
      ]
     },
     "execution_count": 52,
     "metadata": {},
     "output_type": "execute_result"
    }
   ],
   "source": [
    "pred"
   ]
  },
  {
   "cell_type": "code",
   "execution_count": 50,
   "metadata": {},
   "outputs": [],
   "source": [
    "from keras.preprocessing import image\n",
    "files = glob2.glob (\"data/dataset/test/*.jpg\")\n",
    "test_image=[]\n",
    "j=0\n",
    "for i in files:\n",
    "  b=i.split(\"test\")[1]\n",
    "  b=b.strip('\\ ')\n",
    "  df_test.loc[df_test['Image']==b,'Output']=pred[j]\n",
    "  j+=1\n"
   ]
  },
  {
   "cell_type": "code",
   "execution_count": 64,
   "metadata": {},
   "outputs": [],
   "source": [
    "juju=pd.read_csv('new.csv')"
   ]
  },
  {
   "cell_type": "code",
   "execution_count": 65,
   "metadata": {
    "scrolled": true
   },
   "outputs": [
    {
     "data": {
      "text/html": [
       "<div>\n",
       "<style scoped>\n",
       "    .dataframe tbody tr th:only-of-type {\n",
       "        vertical-align: middle;\n",
       "    }\n",
       "\n",
       "    .dataframe tbody tr th {\n",
       "        vertical-align: top;\n",
       "    }\n",
       "\n",
       "    .dataframe thead th {\n",
       "        text-align: right;\n",
       "    }\n",
       "</style>\n",
       "<table border=\"1\" class=\"dataframe\">\n",
       "  <thead>\n",
       "    <tr style=\"text-align: right;\">\n",
       "      <th></th>\n",
       "      <th>Unnamed: 0</th>\n",
       "      <th>Image</th>\n",
       "      <th>Output</th>\n",
       "    </tr>\n",
       "  </thead>\n",
       "  <tbody>\n",
       "    <tr>\n",
       "      <th>0</th>\n",
       "      <td>0</td>\n",
       "      <td>508.jpg</td>\n",
       "      <td>sattriya</td>\n",
       "    </tr>\n",
       "    <tr>\n",
       "      <th>1</th>\n",
       "      <td>1</td>\n",
       "      <td>246.jpg</td>\n",
       "      <td>mohiniyattam</td>\n",
       "    </tr>\n",
       "    <tr>\n",
       "      <th>2</th>\n",
       "      <td>2</td>\n",
       "      <td>473.jpg</td>\n",
       "      <td>sattriya</td>\n",
       "    </tr>\n",
       "    <tr>\n",
       "      <th>3</th>\n",
       "      <td>3</td>\n",
       "      <td>485.jpg</td>\n",
       "      <td>sattriya</td>\n",
       "    </tr>\n",
       "    <tr>\n",
       "      <th>4</th>\n",
       "      <td>4</td>\n",
       "      <td>128.jpg</td>\n",
       "      <td>sattriya</td>\n",
       "    </tr>\n",
       "    <tr>\n",
       "      <th>5</th>\n",
       "      <td>5</td>\n",
       "      <td>410.jpg</td>\n",
       "      <td>sattriya</td>\n",
       "    </tr>\n",
       "    <tr>\n",
       "      <th>6</th>\n",
       "      <td>6</td>\n",
       "      <td>465.jpg</td>\n",
       "      <td>sattriya</td>\n",
       "    </tr>\n",
       "    <tr>\n",
       "      <th>7</th>\n",
       "      <td>7</td>\n",
       "      <td>196.jpg</td>\n",
       "      <td>mohiniyattam</td>\n",
       "    </tr>\n",
       "    <tr>\n",
       "      <th>8</th>\n",
       "      <td>8</td>\n",
       "      <td>340.jpg</td>\n",
       "      <td>mohiniyattam</td>\n",
       "    </tr>\n",
       "    <tr>\n",
       "      <th>9</th>\n",
       "      <td>9</td>\n",
       "      <td>467.jpg</td>\n",
       "      <td>sattriya</td>\n",
       "    </tr>\n",
       "    <tr>\n",
       "      <th>10</th>\n",
       "      <td>10</td>\n",
       "      <td>306.jpg</td>\n",
       "      <td>mohiniyattam</td>\n",
       "    </tr>\n",
       "    <tr>\n",
       "      <th>11</th>\n",
       "      <td>11</td>\n",
       "      <td>171.jpg</td>\n",
       "      <td>sattriya</td>\n",
       "    </tr>\n",
       "    <tr>\n",
       "      <th>12</th>\n",
       "      <td>12</td>\n",
       "      <td>323.jpg</td>\n",
       "      <td>sattriya</td>\n",
       "    </tr>\n",
       "    <tr>\n",
       "      <th>13</th>\n",
       "      <td>13</td>\n",
       "      <td>332.jpg</td>\n",
       "      <td>mohiniyattam</td>\n",
       "    </tr>\n",
       "    <tr>\n",
       "      <th>14</th>\n",
       "      <td>14</td>\n",
       "      <td>330.jpg</td>\n",
       "      <td>sattriya</td>\n",
       "    </tr>\n",
       "    <tr>\n",
       "      <th>15</th>\n",
       "      <td>15</td>\n",
       "      <td>170.jpg</td>\n",
       "      <td>bharatanatyam</td>\n",
       "    </tr>\n",
       "    <tr>\n",
       "      <th>16</th>\n",
       "      <td>16</td>\n",
       "      <td>479.jpg</td>\n",
       "      <td>mohiniyattam</td>\n",
       "    </tr>\n",
       "    <tr>\n",
       "      <th>17</th>\n",
       "      <td>17</td>\n",
       "      <td>9.jpg</td>\n",
       "      <td>odissi</td>\n",
       "    </tr>\n",
       "    <tr>\n",
       "      <th>18</th>\n",
       "      <td>18</td>\n",
       "      <td>283.jpg</td>\n",
       "      <td>mohiniyattam</td>\n",
       "    </tr>\n",
       "    <tr>\n",
       "      <th>19</th>\n",
       "      <td>19</td>\n",
       "      <td>114.jpg</td>\n",
       "      <td>sattriya</td>\n",
       "    </tr>\n",
       "    <tr>\n",
       "      <th>20</th>\n",
       "      <td>20</td>\n",
       "      <td>507.jpg</td>\n",
       "      <td>mohiniyattam</td>\n",
       "    </tr>\n",
       "    <tr>\n",
       "      <th>21</th>\n",
       "      <td>21</td>\n",
       "      <td>183.jpg</td>\n",
       "      <td>mohiniyattam</td>\n",
       "    </tr>\n",
       "    <tr>\n",
       "      <th>22</th>\n",
       "      <td>22</td>\n",
       "      <td>200.jpg</td>\n",
       "      <td>sattriya</td>\n",
       "    </tr>\n",
       "    <tr>\n",
       "      <th>23</th>\n",
       "      <td>23</td>\n",
       "      <td>457.jpg</td>\n",
       "      <td>mohiniyattam</td>\n",
       "    </tr>\n",
       "    <tr>\n",
       "      <th>24</th>\n",
       "      <td>24</td>\n",
       "      <td>264.jpg</td>\n",
       "      <td>odissi</td>\n",
       "    </tr>\n",
       "    <tr>\n",
       "      <th>25</th>\n",
       "      <td>25</td>\n",
       "      <td>194.jpg</td>\n",
       "      <td>sattriya</td>\n",
       "    </tr>\n",
       "    <tr>\n",
       "      <th>26</th>\n",
       "      <td>26</td>\n",
       "      <td>518.jpg</td>\n",
       "      <td>mohiniyattam</td>\n",
       "    </tr>\n",
       "    <tr>\n",
       "      <th>27</th>\n",
       "      <td>27</td>\n",
       "      <td>175.jpg</td>\n",
       "      <td>sattriya</td>\n",
       "    </tr>\n",
       "    <tr>\n",
       "      <th>28</th>\n",
       "      <td>28</td>\n",
       "      <td>64.jpg</td>\n",
       "      <td>sattriya</td>\n",
       "    </tr>\n",
       "    <tr>\n",
       "      <th>29</th>\n",
       "      <td>29</td>\n",
       "      <td>152.jpg</td>\n",
       "      <td>sattriya</td>\n",
       "    </tr>\n",
       "    <tr>\n",
       "      <th>...</th>\n",
       "      <td>...</td>\n",
       "      <td>...</td>\n",
       "      <td>...</td>\n",
       "    </tr>\n",
       "    <tr>\n",
       "      <th>126</th>\n",
       "      <td>126</td>\n",
       "      <td>48.jpg</td>\n",
       "      <td>mohiniyattam</td>\n",
       "    </tr>\n",
       "    <tr>\n",
       "      <th>127</th>\n",
       "      <td>127</td>\n",
       "      <td>290.jpg</td>\n",
       "      <td>mohiniyattam</td>\n",
       "    </tr>\n",
       "    <tr>\n",
       "      <th>128</th>\n",
       "      <td>128</td>\n",
       "      <td>437.jpg</td>\n",
       "      <td>sattriya</td>\n",
       "    </tr>\n",
       "    <tr>\n",
       "      <th>129</th>\n",
       "      <td>129</td>\n",
       "      <td>498.jpg</td>\n",
       "      <td>odissi</td>\n",
       "    </tr>\n",
       "    <tr>\n",
       "      <th>130</th>\n",
       "      <td>130</td>\n",
       "      <td>173.jpg</td>\n",
       "      <td>sattriya</td>\n",
       "    </tr>\n",
       "    <tr>\n",
       "      <th>131</th>\n",
       "      <td>131</td>\n",
       "      <td>280.jpg</td>\n",
       "      <td>mohiniyattam</td>\n",
       "    </tr>\n",
       "    <tr>\n",
       "      <th>132</th>\n",
       "      <td>132</td>\n",
       "      <td>119.jpg</td>\n",
       "      <td>mohiniyattam</td>\n",
       "    </tr>\n",
       "    <tr>\n",
       "      <th>133</th>\n",
       "      <td>133</td>\n",
       "      <td>363.jpg</td>\n",
       "      <td>sattriya</td>\n",
       "    </tr>\n",
       "    <tr>\n",
       "      <th>134</th>\n",
       "      <td>134</td>\n",
       "      <td>97.jpg</td>\n",
       "      <td>bharatanatyam</td>\n",
       "    </tr>\n",
       "    <tr>\n",
       "      <th>135</th>\n",
       "      <td>135</td>\n",
       "      <td>414.jpg</td>\n",
       "      <td>mohiniyattam</td>\n",
       "    </tr>\n",
       "    <tr>\n",
       "      <th>136</th>\n",
       "      <td>136</td>\n",
       "      <td>386.jpg</td>\n",
       "      <td>sattriya</td>\n",
       "    </tr>\n",
       "    <tr>\n",
       "      <th>137</th>\n",
       "      <td>137</td>\n",
       "      <td>424.jpg</td>\n",
       "      <td>mohiniyattam</td>\n",
       "    </tr>\n",
       "    <tr>\n",
       "      <th>138</th>\n",
       "      <td>138</td>\n",
       "      <td>157.jpg</td>\n",
       "      <td>bharatanatyam</td>\n",
       "    </tr>\n",
       "    <tr>\n",
       "      <th>139</th>\n",
       "      <td>139</td>\n",
       "      <td>33.jpg</td>\n",
       "      <td>mohiniyattam</td>\n",
       "    </tr>\n",
       "    <tr>\n",
       "      <th>140</th>\n",
       "      <td>140</td>\n",
       "      <td>354.jpg</td>\n",
       "      <td>mohiniyattam</td>\n",
       "    </tr>\n",
       "    <tr>\n",
       "      <th>141</th>\n",
       "      <td>141</td>\n",
       "      <td>57.jpg</td>\n",
       "      <td>sattriya</td>\n",
       "    </tr>\n",
       "    <tr>\n",
       "      <th>142</th>\n",
       "      <td>142</td>\n",
       "      <td>108.jpg</td>\n",
       "      <td>mohiniyattam</td>\n",
       "    </tr>\n",
       "    <tr>\n",
       "      <th>143</th>\n",
       "      <td>143</td>\n",
       "      <td>239.jpg</td>\n",
       "      <td>sattriya</td>\n",
       "    </tr>\n",
       "    <tr>\n",
       "      <th>144</th>\n",
       "      <td>144</td>\n",
       "      <td>441.jpg</td>\n",
       "      <td>sattriya</td>\n",
       "    </tr>\n",
       "    <tr>\n",
       "      <th>145</th>\n",
       "      <td>145</td>\n",
       "      <td>215.jpg</td>\n",
       "      <td>sattriya</td>\n",
       "    </tr>\n",
       "    <tr>\n",
       "      <th>146</th>\n",
       "      <td>146</td>\n",
       "      <td>373.jpg</td>\n",
       "      <td>sattriya</td>\n",
       "    </tr>\n",
       "    <tr>\n",
       "      <th>147</th>\n",
       "      <td>147</td>\n",
       "      <td>292.jpg</td>\n",
       "      <td>mohiniyattam</td>\n",
       "    </tr>\n",
       "    <tr>\n",
       "      <th>148</th>\n",
       "      <td>148</td>\n",
       "      <td>110.jpg</td>\n",
       "      <td>sattriya</td>\n",
       "    </tr>\n",
       "    <tr>\n",
       "      <th>149</th>\n",
       "      <td>149</td>\n",
       "      <td>510.jpg</td>\n",
       "      <td>sattriya</td>\n",
       "    </tr>\n",
       "    <tr>\n",
       "      <th>150</th>\n",
       "      <td>150</td>\n",
       "      <td>275.jpg</td>\n",
       "      <td>mohiniyattam</td>\n",
       "    </tr>\n",
       "    <tr>\n",
       "      <th>151</th>\n",
       "      <td>151</td>\n",
       "      <td>366.jpg</td>\n",
       "      <td>mohiniyattam</td>\n",
       "    </tr>\n",
       "    <tr>\n",
       "      <th>152</th>\n",
       "      <td>152</td>\n",
       "      <td>226.jpg</td>\n",
       "      <td>mohiniyattam</td>\n",
       "    </tr>\n",
       "    <tr>\n",
       "      <th>153</th>\n",
       "      <td>153</td>\n",
       "      <td>35.jpg</td>\n",
       "      <td>sattriya</td>\n",
       "    </tr>\n",
       "    <tr>\n",
       "      <th>154</th>\n",
       "      <td>154</td>\n",
       "      <td>458.jpg</td>\n",
       "      <td>sattriya</td>\n",
       "    </tr>\n",
       "    <tr>\n",
       "      <th>155</th>\n",
       "      <td>155</td>\n",
       "      <td>358.jpg</td>\n",
       "      <td>mohiniyattam</td>\n",
       "    </tr>\n",
       "  </tbody>\n",
       "</table>\n",
       "<p>156 rows × 3 columns</p>\n",
       "</div>"
      ],
      "text/plain": [
       "     Unnamed: 0    Image         Output\n",
       "0             0  508.jpg       sattriya\n",
       "1             1  246.jpg   mohiniyattam\n",
       "2             2  473.jpg       sattriya\n",
       "3             3  485.jpg       sattriya\n",
       "4             4  128.jpg       sattriya\n",
       "5             5  410.jpg       sattriya\n",
       "6             6  465.jpg       sattriya\n",
       "7             7  196.jpg   mohiniyattam\n",
       "8             8  340.jpg   mohiniyattam\n",
       "9             9  467.jpg       sattriya\n",
       "10           10  306.jpg   mohiniyattam\n",
       "11           11  171.jpg       sattriya\n",
       "12           12  323.jpg       sattriya\n",
       "13           13  332.jpg   mohiniyattam\n",
       "14           14  330.jpg       sattriya\n",
       "15           15  170.jpg  bharatanatyam\n",
       "16           16  479.jpg   mohiniyattam\n",
       "17           17    9.jpg         odissi\n",
       "18           18  283.jpg   mohiniyattam\n",
       "19           19  114.jpg       sattriya\n",
       "20           20  507.jpg   mohiniyattam\n",
       "21           21  183.jpg   mohiniyattam\n",
       "22           22  200.jpg       sattriya\n",
       "23           23  457.jpg   mohiniyattam\n",
       "24           24  264.jpg         odissi\n",
       "25           25  194.jpg       sattriya\n",
       "26           26  518.jpg   mohiniyattam\n",
       "27           27  175.jpg       sattriya\n",
       "28           28   64.jpg       sattriya\n",
       "29           29  152.jpg       sattriya\n",
       "..          ...      ...            ...\n",
       "126         126   48.jpg   mohiniyattam\n",
       "127         127  290.jpg   mohiniyattam\n",
       "128         128  437.jpg       sattriya\n",
       "129         129  498.jpg         odissi\n",
       "130         130  173.jpg       sattriya\n",
       "131         131  280.jpg   mohiniyattam\n",
       "132         132  119.jpg   mohiniyattam\n",
       "133         133  363.jpg       sattriya\n",
       "134         134   97.jpg  bharatanatyam\n",
       "135         135  414.jpg   mohiniyattam\n",
       "136         136  386.jpg       sattriya\n",
       "137         137  424.jpg   mohiniyattam\n",
       "138         138  157.jpg  bharatanatyam\n",
       "139         139   33.jpg   mohiniyattam\n",
       "140         140  354.jpg   mohiniyattam\n",
       "141         141   57.jpg       sattriya\n",
       "142         142  108.jpg   mohiniyattam\n",
       "143         143  239.jpg       sattriya\n",
       "144         144  441.jpg       sattriya\n",
       "145         145  215.jpg       sattriya\n",
       "146         146  373.jpg       sattriya\n",
       "147         147  292.jpg   mohiniyattam\n",
       "148         148  110.jpg       sattriya\n",
       "149         149  510.jpg       sattriya\n",
       "150         150  275.jpg   mohiniyattam\n",
       "151         151  366.jpg   mohiniyattam\n",
       "152         152  226.jpg   mohiniyattam\n",
       "153         153   35.jpg       sattriya\n",
       "154         154  458.jpg       sattriya\n",
       "155         155  358.jpg   mohiniyattam\n",
       "\n",
       "[156 rows x 3 columns]"
      ]
     },
     "execution_count": 65,
     "metadata": {},
     "output_type": "execute_result"
    }
   ],
   "source": [
    "juju"
   ]
  },
  {
   "cell_type": "code",
   "execution_count": 28,
   "metadata": {
    "scrolled": true
   },
   "outputs": [
    {
     "data": {
      "text/html": [
       "<div>\n",
       "<style scoped>\n",
       "    .dataframe tbody tr th:only-of-type {\n",
       "        vertical-align: middle;\n",
       "    }\n",
       "\n",
       "    .dataframe tbody tr th {\n",
       "        vertical-align: top;\n",
       "    }\n",
       "\n",
       "    .dataframe thead th {\n",
       "        text-align: right;\n",
       "    }\n",
       "</style>\n",
       "<table border=\"1\" class=\"dataframe\">\n",
       "  <thead>\n",
       "    <tr style=\"text-align: right;\">\n",
       "      <th></th>\n",
       "      <th>Image</th>\n",
       "      <th>Output</th>\n",
       "    </tr>\n",
       "  </thead>\n",
       "  <tbody>\n",
       "    <tr>\n",
       "      <th>0</th>\n",
       "      <td>508.jpg</td>\n",
       "      <td>NaN</td>\n",
       "    </tr>\n",
       "    <tr>\n",
       "      <th>1</th>\n",
       "      <td>246.jpg</td>\n",
       "      <td>NaN</td>\n",
       "    </tr>\n",
       "    <tr>\n",
       "      <th>2</th>\n",
       "      <td>473.jpg</td>\n",
       "      <td>NaN</td>\n",
       "    </tr>\n",
       "    <tr>\n",
       "      <th>3</th>\n",
       "      <td>485.jpg</td>\n",
       "      <td>NaN</td>\n",
       "    </tr>\n",
       "    <tr>\n",
       "      <th>4</th>\n",
       "      <td>128.jpg</td>\n",
       "      <td>NaN</td>\n",
       "    </tr>\n",
       "    <tr>\n",
       "      <th>5</th>\n",
       "      <td>410.jpg</td>\n",
       "      <td>NaN</td>\n",
       "    </tr>\n",
       "    <tr>\n",
       "      <th>6</th>\n",
       "      <td>465.jpg</td>\n",
       "      <td>NaN</td>\n",
       "    </tr>\n",
       "    <tr>\n",
       "      <th>7</th>\n",
       "      <td>196.jpg</td>\n",
       "      <td>NaN</td>\n",
       "    </tr>\n",
       "    <tr>\n",
       "      <th>8</th>\n",
       "      <td>340.jpg</td>\n",
       "      <td>NaN</td>\n",
       "    </tr>\n",
       "    <tr>\n",
       "      <th>9</th>\n",
       "      <td>467.jpg</td>\n",
       "      <td>NaN</td>\n",
       "    </tr>\n",
       "    <tr>\n",
       "      <th>10</th>\n",
       "      <td>306.jpg</td>\n",
       "      <td>NaN</td>\n",
       "    </tr>\n",
       "    <tr>\n",
       "      <th>11</th>\n",
       "      <td>171.jpg</td>\n",
       "      <td>NaN</td>\n",
       "    </tr>\n",
       "    <tr>\n",
       "      <th>12</th>\n",
       "      <td>323.jpg</td>\n",
       "      <td>NaN</td>\n",
       "    </tr>\n",
       "    <tr>\n",
       "      <th>13</th>\n",
       "      <td>332.jpg</td>\n",
       "      <td>NaN</td>\n",
       "    </tr>\n",
       "    <tr>\n",
       "      <th>14</th>\n",
       "      <td>330.jpg</td>\n",
       "      <td>NaN</td>\n",
       "    </tr>\n",
       "    <tr>\n",
       "      <th>15</th>\n",
       "      <td>170.jpg</td>\n",
       "      <td>NaN</td>\n",
       "    </tr>\n",
       "    <tr>\n",
       "      <th>16</th>\n",
       "      <td>479.jpg</td>\n",
       "      <td>NaN</td>\n",
       "    </tr>\n",
       "    <tr>\n",
       "      <th>17</th>\n",
       "      <td>9.jpg</td>\n",
       "      <td>NaN</td>\n",
       "    </tr>\n",
       "    <tr>\n",
       "      <th>18</th>\n",
       "      <td>283.jpg</td>\n",
       "      <td>NaN</td>\n",
       "    </tr>\n",
       "    <tr>\n",
       "      <th>19</th>\n",
       "      <td>114.jpg</td>\n",
       "      <td>NaN</td>\n",
       "    </tr>\n",
       "    <tr>\n",
       "      <th>20</th>\n",
       "      <td>507.jpg</td>\n",
       "      <td>NaN</td>\n",
       "    </tr>\n",
       "    <tr>\n",
       "      <th>21</th>\n",
       "      <td>183.jpg</td>\n",
       "      <td>NaN</td>\n",
       "    </tr>\n",
       "    <tr>\n",
       "      <th>22</th>\n",
       "      <td>200.jpg</td>\n",
       "      <td>NaN</td>\n",
       "    </tr>\n",
       "    <tr>\n",
       "      <th>23</th>\n",
       "      <td>457.jpg</td>\n",
       "      <td>NaN</td>\n",
       "    </tr>\n",
       "    <tr>\n",
       "      <th>24</th>\n",
       "      <td>264.jpg</td>\n",
       "      <td>NaN</td>\n",
       "    </tr>\n",
       "    <tr>\n",
       "      <th>25</th>\n",
       "      <td>194.jpg</td>\n",
       "      <td>NaN</td>\n",
       "    </tr>\n",
       "    <tr>\n",
       "      <th>26</th>\n",
       "      <td>518.jpg</td>\n",
       "      <td>NaN</td>\n",
       "    </tr>\n",
       "    <tr>\n",
       "      <th>27</th>\n",
       "      <td>175.jpg</td>\n",
       "      <td>NaN</td>\n",
       "    </tr>\n",
       "    <tr>\n",
       "      <th>28</th>\n",
       "      <td>64.jpg</td>\n",
       "      <td>NaN</td>\n",
       "    </tr>\n",
       "    <tr>\n",
       "      <th>29</th>\n",
       "      <td>152.jpg</td>\n",
       "      <td>NaN</td>\n",
       "    </tr>\n",
       "    <tr>\n",
       "      <th>...</th>\n",
       "      <td>...</td>\n",
       "      <td>...</td>\n",
       "    </tr>\n",
       "    <tr>\n",
       "      <th>126</th>\n",
       "      <td>48.jpg</td>\n",
       "      <td>NaN</td>\n",
       "    </tr>\n",
       "    <tr>\n",
       "      <th>127</th>\n",
       "      <td>290.jpg</td>\n",
       "      <td>NaN</td>\n",
       "    </tr>\n",
       "    <tr>\n",
       "      <th>128</th>\n",
       "      <td>437.jpg</td>\n",
       "      <td>NaN</td>\n",
       "    </tr>\n",
       "    <tr>\n",
       "      <th>129</th>\n",
       "      <td>498.jpg</td>\n",
       "      <td>NaN</td>\n",
       "    </tr>\n",
       "    <tr>\n",
       "      <th>130</th>\n",
       "      <td>173.jpg</td>\n",
       "      <td>NaN</td>\n",
       "    </tr>\n",
       "    <tr>\n",
       "      <th>131</th>\n",
       "      <td>280.jpg</td>\n",
       "      <td>NaN</td>\n",
       "    </tr>\n",
       "    <tr>\n",
       "      <th>132</th>\n",
       "      <td>119.jpg</td>\n",
       "      <td>NaN</td>\n",
       "    </tr>\n",
       "    <tr>\n",
       "      <th>133</th>\n",
       "      <td>363.jpg</td>\n",
       "      <td>NaN</td>\n",
       "    </tr>\n",
       "    <tr>\n",
       "      <th>134</th>\n",
       "      <td>97.jpg</td>\n",
       "      <td>NaN</td>\n",
       "    </tr>\n",
       "    <tr>\n",
       "      <th>135</th>\n",
       "      <td>414.jpg</td>\n",
       "      <td>NaN</td>\n",
       "    </tr>\n",
       "    <tr>\n",
       "      <th>136</th>\n",
       "      <td>386.jpg</td>\n",
       "      <td>NaN</td>\n",
       "    </tr>\n",
       "    <tr>\n",
       "      <th>137</th>\n",
       "      <td>424.jpg</td>\n",
       "      <td>NaN</td>\n",
       "    </tr>\n",
       "    <tr>\n",
       "      <th>138</th>\n",
       "      <td>157.jpg</td>\n",
       "      <td>NaN</td>\n",
       "    </tr>\n",
       "    <tr>\n",
       "      <th>139</th>\n",
       "      <td>33.jpg</td>\n",
       "      <td>NaN</td>\n",
       "    </tr>\n",
       "    <tr>\n",
       "      <th>140</th>\n",
       "      <td>354.jpg</td>\n",
       "      <td>NaN</td>\n",
       "    </tr>\n",
       "    <tr>\n",
       "      <th>141</th>\n",
       "      <td>57.jpg</td>\n",
       "      <td>NaN</td>\n",
       "    </tr>\n",
       "    <tr>\n",
       "      <th>142</th>\n",
       "      <td>108.jpg</td>\n",
       "      <td>NaN</td>\n",
       "    </tr>\n",
       "    <tr>\n",
       "      <th>143</th>\n",
       "      <td>239.jpg</td>\n",
       "      <td>NaN</td>\n",
       "    </tr>\n",
       "    <tr>\n",
       "      <th>144</th>\n",
       "      <td>441.jpg</td>\n",
       "      <td>NaN</td>\n",
       "    </tr>\n",
       "    <tr>\n",
       "      <th>145</th>\n",
       "      <td>215.jpg</td>\n",
       "      <td>NaN</td>\n",
       "    </tr>\n",
       "    <tr>\n",
       "      <th>146</th>\n",
       "      <td>373.jpg</td>\n",
       "      <td>NaN</td>\n",
       "    </tr>\n",
       "    <tr>\n",
       "      <th>147</th>\n",
       "      <td>292.jpg</td>\n",
       "      <td>NaN</td>\n",
       "    </tr>\n",
       "    <tr>\n",
       "      <th>148</th>\n",
       "      <td>110.jpg</td>\n",
       "      <td>NaN</td>\n",
       "    </tr>\n",
       "    <tr>\n",
       "      <th>149</th>\n",
       "      <td>510.jpg</td>\n",
       "      <td>NaN</td>\n",
       "    </tr>\n",
       "    <tr>\n",
       "      <th>150</th>\n",
       "      <td>275.jpg</td>\n",
       "      <td>NaN</td>\n",
       "    </tr>\n",
       "    <tr>\n",
       "      <th>151</th>\n",
       "      <td>366.jpg</td>\n",
       "      <td>NaN</td>\n",
       "    </tr>\n",
       "    <tr>\n",
       "      <th>152</th>\n",
       "      <td>226.jpg</td>\n",
       "      <td>NaN</td>\n",
       "    </tr>\n",
       "    <tr>\n",
       "      <th>153</th>\n",
       "      <td>35.jpg</td>\n",
       "      <td>NaN</td>\n",
       "    </tr>\n",
       "    <tr>\n",
       "      <th>154</th>\n",
       "      <td>458.jpg</td>\n",
       "      <td>NaN</td>\n",
       "    </tr>\n",
       "    <tr>\n",
       "      <th>155</th>\n",
       "      <td>358.jpg</td>\n",
       "      <td>NaN</td>\n",
       "    </tr>\n",
       "  </tbody>\n",
       "</table>\n",
       "<p>156 rows × 2 columns</p>\n",
       "</div>"
      ],
      "text/plain": [
       "       Image  Output\n",
       "0    508.jpg     NaN\n",
       "1    246.jpg     NaN\n",
       "2    473.jpg     NaN\n",
       "3    485.jpg     NaN\n",
       "4    128.jpg     NaN\n",
       "5    410.jpg     NaN\n",
       "6    465.jpg     NaN\n",
       "7    196.jpg     NaN\n",
       "8    340.jpg     NaN\n",
       "9    467.jpg     NaN\n",
       "10   306.jpg     NaN\n",
       "11   171.jpg     NaN\n",
       "12   323.jpg     NaN\n",
       "13   332.jpg     NaN\n",
       "14   330.jpg     NaN\n",
       "15   170.jpg     NaN\n",
       "16   479.jpg     NaN\n",
       "17     9.jpg     NaN\n",
       "18   283.jpg     NaN\n",
       "19   114.jpg     NaN\n",
       "20   507.jpg     NaN\n",
       "21   183.jpg     NaN\n",
       "22   200.jpg     NaN\n",
       "23   457.jpg     NaN\n",
       "24   264.jpg     NaN\n",
       "25   194.jpg     NaN\n",
       "26   518.jpg     NaN\n",
       "27   175.jpg     NaN\n",
       "28    64.jpg     NaN\n",
       "29   152.jpg     NaN\n",
       "..       ...     ...\n",
       "126   48.jpg     NaN\n",
       "127  290.jpg     NaN\n",
       "128  437.jpg     NaN\n",
       "129  498.jpg     NaN\n",
       "130  173.jpg     NaN\n",
       "131  280.jpg     NaN\n",
       "132  119.jpg     NaN\n",
       "133  363.jpg     NaN\n",
       "134   97.jpg     NaN\n",
       "135  414.jpg     NaN\n",
       "136  386.jpg     NaN\n",
       "137  424.jpg     NaN\n",
       "138  157.jpg     NaN\n",
       "139   33.jpg     NaN\n",
       "140  354.jpg     NaN\n",
       "141   57.jpg     NaN\n",
       "142  108.jpg     NaN\n",
       "143  239.jpg     NaN\n",
       "144  441.jpg     NaN\n",
       "145  215.jpg     NaN\n",
       "146  373.jpg     NaN\n",
       "147  292.jpg     NaN\n",
       "148  110.jpg     NaN\n",
       "149  510.jpg     NaN\n",
       "150  275.jpg     NaN\n",
       "151  366.jpg     NaN\n",
       "152  226.jpg     NaN\n",
       "153   35.jpg     NaN\n",
       "154  458.jpg     NaN\n",
       "155  358.jpg     NaN\n",
       "\n",
       "[156 rows x 2 columns]"
      ]
     },
     "execution_count": 28,
     "metadata": {},
     "output_type": "execute_result"
    }
   ],
   "source": [
    "df_test"
   ]
  },
  {
   "cell_type": "code",
   "execution_count": 73,
   "metadata": {},
   "outputs": [],
   "source": [
    "df_test.to_csv('new2.csv')"
   ]
  },
  {
   "cell_type": "code",
   "execution_count": 3,
   "metadata": {},
   "outputs": [
    {
     "name": "stderr",
     "output_type": "stream",
     "text": [
      "'wget' is not recognized as an internal or external command,\n",
      "operable program or batch file.\n"
     ]
    }
   ],
   "source": [
    "!wget --no-check-certificate \\\n",
    "    https://storage.googleapis.com/mledu-datasets/cats_and_dogs_filtered.zip \\\n",
    "    -O /tmp/cats_and_dogs_filtered.zip"
   ]
  },
  {
   "cell_type": "code",
   "execution_count": null,
   "metadata": {},
   "outputs": [],
   "source": [
    "test_image = []\n",
    "for i in tqdm(range(test.shape[0])):\n",
    "    img = image.load_img('test/'+test['id'][i].astype('str')+'.png', target_size=(28,28,1), grayscale=True)\n",
    "    img = image.img_to_array(img)\n",
    "    img = img/255\n",
    "    test_image.append(img)\n",
    "test = np.array(test_image)"
   ]
  },
  {
   "cell_type": "markdown",
   "metadata": {},
   "source": [
    "## Inception V3 model"
   ]
  },
  {
   "cell_type": "code",
   "execution_count": 6,
   "metadata": {},
   "outputs": [],
   "source": [
    "from tensorflow.keras.applications.inception_v3 import InceptionV3\n",
    "model=InceptionV3(input_shape=(224,224,3),include_top=False,weights='imagenet')"
   ]
  },
  {
   "cell_type": "code",
   "execution_count": 8,
   "metadata": {},
   "outputs": [],
   "source": [
    "import os\n",
    "import zipfile\n",
    "import tensorflow as tf\n",
    "from tensorflow.keras.optimizers import RMSprop\n",
    "from tensorflow.keras.preprocessing.image import ImageDataGenerator\n",
    "from tensorflow.keras import layers\n",
    "from tensorflow.keras import Model\n",
    "class myCallback(tf.keras.callbacks.Callback):\n",
    "  def on_epoch_end(self, epoch, logs={}):\n",
    "    if(logs.get('acc')>0.95):\n",
    "      print(\"\\nReached 95% accuracy so cancelling training!\")\n",
    "      self.model.stop_training = True"
   ]
  },
  {
   "cell_type": "code",
   "execution_count": 9,
   "metadata": {},
   "outputs": [],
   "source": [
    "\n",
    "from tensorflow.keras.optimizers import RMSprop\n",
    "\n",
    "# Flatten the output layer to 1 dimension\n",
    "x = layers.Flatten()(model.output)\n",
    "# Add a fully connected layer with 1,024 hidden units and ReLU activation\n",
    "x = layers.Dense(128, activation='relu')(x)\n",
    "x = layers.Dropout(0.2)(x) \n",
    "x = layers.Dense(256, activation='relu')(x)\n",
    "# Add a dropout rate of 0.2\n",
    "x = layers.Dropout(0.2)(x)                  \n",
    "# Add a final sigmoid layer for classification\n",
    "x = layers.Dense  (8, activation='softmax')(x)           \n",
    "\n",
    "model = Model( model.input, x) \n",
    "\n",
    "model.compile(optimizer = RMSprop(lr=0.0001), \n",
    "              loss = 'categorical_crossentropy', \n",
    "              metrics = ['acc'])"
   ]
  },
  {
   "cell_type": "code",
   "execution_count": 10,
   "metadata": {},
   "outputs": [],
   "source": [
    "X_train, X_test, y_train, y_test = train_test_split(X, y, random_state=42, test_size=0.3)"
   ]
  },
  {
   "cell_type": "code",
   "execution_count": 74,
   "metadata": {},
   "outputs": [
    {
     "ename": "NameError",
     "evalue": "name 'train_dir' is not defined",
     "output_type": "error",
     "traceback": [
      "\u001b[1;31m---------------------------------------------------------------------------\u001b[0m",
      "\u001b[1;31mNameError\u001b[0m                                 Traceback (most recent call last)",
      "\u001b[1;32m<ipython-input-74-bd1665e18563>\u001b[0m in \u001b[0;36m<module>\u001b[1;34m\u001b[0m\n\u001b[0;32m     12\u001b[0m \u001b[1;33m\u001b[0m\u001b[0m\n\u001b[0;32m     13\u001b[0m \u001b[1;31m# Flow training images in batches of 20 using train_datagen generator\u001b[0m\u001b[1;33m\u001b[0m\u001b[1;33m\u001b[0m\u001b[1;33m\u001b[0m\u001b[0m\n\u001b[1;32m---> 14\u001b[1;33m train_generator = train_datagen.flow_from_directory(train_dir,\n\u001b[0m\u001b[0;32m     15\u001b[0m                                                     \u001b[0mbatch_size\u001b[0m \u001b[1;33m=\u001b[0m \u001b[1;36m20\u001b[0m\u001b[1;33m,\u001b[0m\u001b[1;33m\u001b[0m\u001b[1;33m\u001b[0m\u001b[0m\n\u001b[0;32m     16\u001b[0m                                                     \u001b[0mclass_mode\u001b[0m \u001b[1;33m=\u001b[0m \u001b[1;34m'binary'\u001b[0m\u001b[1;33m,\u001b[0m\u001b[1;33m\u001b[0m\u001b[1;33m\u001b[0m\u001b[0m\n",
      "\u001b[1;31mNameError\u001b[0m: name 'train_dir' is not defined"
     ]
    }
   ],
   "source": []
  },
  {
   "cell_type": "code",
   "execution_count": 11,
   "metadata": {
    "scrolled": true
   },
   "outputs": [
    {
     "name": "stdout",
     "output_type": "stream",
     "text": [
      "Train on 364 samples, validate on 110 samples\n",
      "Epoch 1/10\n",
      "364/364 - 149s - loss: 2.4125 - acc: 0.1401 - val_loss: 2.1316 - val_acc: 0.2000\n",
      "Epoch 2/10\n",
      "364/364 - 113s - loss: 1.8839 - acc: 0.3049 - val_loss: 2.2042 - val_acc: 0.2455\n",
      "Epoch 3/10\n",
      "364/364 - 113s - loss: 1.5458 - acc: 0.4258 - val_loss: 1.6669 - val_acc: 0.3455\n",
      "Epoch 4/10\n",
      "364/364 - 114s - loss: 1.2371 - acc: 0.5577 - val_loss: 1.2853 - val_acc: 0.5455\n",
      "Epoch 5/10\n",
      "364/364 - 113s - loss: 0.7944 - acc: 0.7445 - val_loss: 1.2765 - val_acc: 0.5545\n",
      "Epoch 6/10\n",
      "364/364 - 113s - loss: 0.6937 - acc: 0.7885 - val_loss: 1.2146 - val_acc: 0.6182\n",
      "Epoch 7/10\n",
      "364/364 - 113s - loss: 0.5912 - acc: 0.8269 - val_loss: 0.7152 - val_acc: 0.7455\n",
      "Epoch 8/10\n",
      "364/364 - 114s - loss: 0.3087 - acc: 0.9011 - val_loss: 0.7999 - val_acc: 0.7000\n",
      "Epoch 9/10\n",
      "364/364 - 115s - loss: 0.3156 - acc: 0.9121 - val_loss: 1.2395 - val_acc: 0.7000\n",
      "Epoch 10/10\n",
      "364/364 - 116s - loss: 0.3543 - acc: 0.8956 - val_loss: 0.2880 - val_acc: 0.9000\n"
     ]
    }
   ],
   "source": [
    "\n",
    "callbacks = myCallback()\n",
    "history = model.fit(\n",
    "            X,\n",
    "            y,\n",
    "            #steps_per_epoch = 100,\n",
    "            epochs = 10,\n",
    "            #validation_steps = 50,\n",
    "            verbose = 2,\n",
    "            validation_data=(X_test,y_test))"
   ]
  },
  {
   "cell_type": "code",
   "execution_count": 18,
   "metadata": {
    "scrolled": true
   },
   "outputs": [],
   "source": [
    "from keras.preprocessing import image\n",
    "files = glob2.glob (\"data/dataset/test/*.jpg\")\n",
    "test_image=[]\n",
    "for i in files:\n",
    "  img=cv2.imread(i)\n",
    "  img=cv2.resize(img,(224,224))\n",
    "  img=image.img_to_array(img)\n",
    "  img = img/255\n",
    "  #test_image.append(img)\n",
    "  #img=img/255\n",
    "  out=model.predict((img).reshape(1,224,224,3))\n",
    "  prediction=np.argmax(out,axis=1)\n",
    "  prediction=label_encoder.inverse_transform(prediction)\n",
    "  #print(prediction)\n",
    "  #print(np.amax())\n",
    "#   #arr=np.array(['manipuri', 'bharatanatyam', 'odissi', 'kathakali', 'kathak','sattriya', 'kuchipudi', 'mohiniyattam'])\n",
    "  b=i.split(\"test\")[1]\n",
    "  b=b.strip('\\ ')\n",
    "#   #print(b)\n",
    "#   #print(i)\n",
    "#   #m=re.search(r'\\(.+?).', i).group(1)\n",
    "#   #print(m)\n",
    "# #   p=m+\".jpg\"\n",
    "# #   print(arr[int(m)-1])\n",
    "  df_test.loc[df_test['Image']==b,'Output']=prediction\n",
    "#   #print(model.predict_classes(img.reshape(1,800,600,3)),i)\n",
    "#   #train_image.append(img)\n",
    "# test=np.array(test_image)"
   ]
  },
  {
   "cell_type": "code",
   "execution_count": 78,
   "metadata": {},
   "outputs": [],
   "source": [
    "prediction=model.predict(test)"
   ]
  },
  {
   "cell_type": "code",
   "execution_count": 79,
   "metadata": {},
   "outputs": [
    {
     "data": {
      "text/plain": [
       "array([[5.88595867e-04, 3.03131342e-03, 3.48985195e-05, ...,\n",
       "        1.25050545e-04, 2.74181366e-06, 3.27825546e-07],\n",
       "       [2.53915787e-05, 2.33709812e-04, 2.75671482e-05, ...,\n",
       "        2.87473202e-04, 4.64618206e-05, 1.37895346e-04],\n",
       "       [0.00000000e+00, 8.94069672e-08, 2.70730346e-01, ...,\n",
       "        0.00000000e+00, 0.00000000e+00, 0.00000000e+00],\n",
       "       ...,\n",
       "       [4.97698784e-06, 2.62063742e-03, 1.62115693e-03, ...,\n",
       "        2.68220901e-07, 3.24845314e-06, 4.17232513e-07],\n",
       "       [4.39018011e-04, 1.11446649e-01, 6.30050898e-04, ...,\n",
       "        1.23858452e-04, 3.44604254e-04, 2.23219395e-05],\n",
       "       [5.96046448e-08, 1.19775534e-04, 1.90734863e-06, ...,\n",
       "        1.43051147e-06, 1.54674053e-04, 4.17232513e-07]], dtype=float32)"
      ]
     },
     "execution_count": 79,
     "metadata": {},
     "output_type": "execute_result"
    }
   ],
   "source": [
    "prediction"
   ]
  },
  {
   "cell_type": "code",
   "execution_count": 80,
   "metadata": {},
   "outputs": [],
   "source": [
    "prediction2=np.amax(prediction,axis=1)"
   ]
  },
  {
   "cell_type": "code",
   "execution_count": 81,
   "metadata": {},
   "outputs": [],
   "source": [
    "prediction=np.argmax(prediction,axis=1)"
   ]
  },
  {
   "cell_type": "code",
   "execution_count": 82,
   "metadata": {},
   "outputs": [
    {
     "data": {
      "text/plain": [
       "array([4, 4, 2, 1, 1, 2, 1, 3, 5, 0, 3, 5, 4, 6, 3, 0, 1, 1, 1, 4, 6, 0,\n",
       "       2, 7, 0, 0, 5, 1, 4, 1, 1, 5, 1, 1, 0, 2, 4, 6, 6, 1, 1, 0, 5, 1,\n",
       "       1, 3, 3, 0, 1, 1, 2, 4, 3, 5, 7, 2, 5, 3, 1, 6, 0, 7, 6, 1, 5, 1,\n",
       "       5, 3, 6, 1, 3, 1, 2, 1, 2, 3, 6, 2, 7, 6, 5, 6, 4, 5, 3, 1, 1, 6,\n",
       "       5, 2, 1, 2, 4, 7, 4, 1, 2, 2, 5, 5, 4, 2, 6, 0, 0, 1, 3, 6, 1, 1,\n",
       "       1, 3, 1, 2, 0, 6, 1, 1, 3, 4, 0, 6, 2, 7, 5, 1, 1, 2, 0, 0, 3, 2,\n",
       "       1, 2, 0, 6, 1, 6, 1, 1, 1, 0, 5, 5, 1, 4, 0, 3, 3, 4, 3, 0, 2, 1,\n",
       "       3, 6], dtype=int64)"
      ]
     },
     "execution_count": 82,
     "metadata": {},
     "output_type": "execute_result"
    }
   ],
   "source": [
    "prediction"
   ]
  },
  {
   "cell_type": "code",
   "execution_count": 83,
   "metadata": {},
   "outputs": [],
   "source": [
    "prediction=label_encoder.inverse_transform(prediction)"
   ]
  },
  {
   "cell_type": "code",
   "execution_count": 84,
   "metadata": {},
   "outputs": [],
   "source": [
    "p=pd.DataFrame(prediction,columns=['target'])"
   ]
  },
  {
   "cell_type": "code",
   "execution_count": 17,
   "metadata": {},
   "outputs": [],
   "source": [
    "df_test=pd.read_csv('data/dataset/test.csv')"
   ]
  },
  {
   "cell_type": "code",
   "execution_count": 19,
   "metadata": {},
   "outputs": [
    {
     "data": {
      "text/html": [
       "<div>\n",
       "<style scoped>\n",
       "    .dataframe tbody tr th:only-of-type {\n",
       "        vertical-align: middle;\n",
       "    }\n",
       "\n",
       "    .dataframe tbody tr th {\n",
       "        vertical-align: top;\n",
       "    }\n",
       "\n",
       "    .dataframe thead th {\n",
       "        text-align: right;\n",
       "    }\n",
       "</style>\n",
       "<table border=\"1\" class=\"dataframe\">\n",
       "  <thead>\n",
       "    <tr style=\"text-align: right;\">\n",
       "      <th></th>\n",
       "      <th>Image</th>\n",
       "      <th>Output</th>\n",
       "    </tr>\n",
       "  </thead>\n",
       "  <tbody>\n",
       "    <tr>\n",
       "      <th>0</th>\n",
       "      <td>508.jpg</td>\n",
       "      <td>bharatanatyam</td>\n",
       "    </tr>\n",
       "    <tr>\n",
       "      <th>1</th>\n",
       "      <td>246.jpg</td>\n",
       "      <td>kathak</td>\n",
       "    </tr>\n",
       "    <tr>\n",
       "      <th>2</th>\n",
       "      <td>473.jpg</td>\n",
       "      <td>bharatanatyam</td>\n",
       "    </tr>\n",
       "    <tr>\n",
       "      <th>3</th>\n",
       "      <td>485.jpg</td>\n",
       "      <td>bharatanatyam</td>\n",
       "    </tr>\n",
       "    <tr>\n",
       "      <th>4</th>\n",
       "      <td>128.jpg</td>\n",
       "      <td>kuchipudi</td>\n",
       "    </tr>\n",
       "  </tbody>\n",
       "</table>\n",
       "</div>"
      ],
      "text/plain": [
       "     Image         Output\n",
       "0  508.jpg  bharatanatyam\n",
       "1  246.jpg         kathak\n",
       "2  473.jpg  bharatanatyam\n",
       "3  485.jpg  bharatanatyam\n",
       "4  128.jpg      kuchipudi"
      ]
     },
     "execution_count": 19,
     "metadata": {},
     "output_type": "execute_result"
    }
   ],
   "source": [
    "df_test.head()"
   ]
  },
  {
   "cell_type": "code",
   "execution_count": 86,
   "metadata": {},
   "outputs": [],
   "source": [
    "n=pd.concat([df_test,p],axis=1)\n"
   ]
  },
  {
   "cell_type": "code",
   "execution_count": 20,
   "metadata": {},
   "outputs": [],
   "source": [
    "df_test.to_csv('shit2.csv')"
   ]
  },
  {
   "cell_type": "code",
   "execution_count": null,
   "metadata": {},
   "outputs": [],
   "source": []
  }
 ],
 "metadata": {
  "colab": {
   "collapsed_sections": [],
   "name": "Untitled2.ipynb",
   "provenance": []
  },
  "kernelspec": {
   "display_name": "Python 3",
   "language": "python",
   "name": "python3"
  },
  "language_info": {
   "codemirror_mode": {
    "name": "ipython",
    "version": 3
   },
   "file_extension": ".py",
   "mimetype": "text/x-python",
   "name": "python",
   "nbconvert_exporter": "python",
   "pygments_lexer": "ipython3",
   "version": "3.7.3"
  }
 },
 "nbformat": 4,
 "nbformat_minor": 1
}
