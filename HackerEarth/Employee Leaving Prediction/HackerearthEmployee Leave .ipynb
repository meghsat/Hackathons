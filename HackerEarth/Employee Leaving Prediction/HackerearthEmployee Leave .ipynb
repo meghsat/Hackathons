{
 "cells": [
  {
   "cell_type": "code",
   "execution_count": 2,
   "metadata": {},
   "outputs": [],
   "source": [
    "from keras.callbacks import ModelCheckpoint\n",
    "from keras.models import Sequential\n",
    "from keras.layers import Dense, Activation, Flatten\n",
    "from sklearn.model_selection import train_test_split\n",
    "from sklearn.ensemble import RandomForestRegressor\n",
    "from sklearn.metrics import mean_absolute_error \n",
    "from matplotlib import pyplot as plt\n",
    "import seaborn as sb\n",
    "import matplotlib.pyplot as plt\n",
    "import pandas as pd\n",
    "import numpy as np\n",
    "from sklearn.linear_model import BayesianRidge, LinearRegression"
   ]
  },
  {
   "cell_type": "code",
   "execution_count": 3,
   "metadata": {},
   "outputs": [],
   "source": [
    "df=pd.read_csv('empleave/Train.csv')"
   ]
  },
  {
   "cell_type": "code",
   "execution_count": 3,
   "metadata": {},
   "outputs": [
    {
     "data": {
      "text/html": [
       "<div>\n",
       "<style scoped>\n",
       "    .dataframe tbody tr th:only-of-type {\n",
       "        vertical-align: middle;\n",
       "    }\n",
       "\n",
       "    .dataframe tbody tr th {\n",
       "        vertical-align: top;\n",
       "    }\n",
       "\n",
       "    .dataframe thead th {\n",
       "        text-align: right;\n",
       "    }\n",
       "</style>\n",
       "<table border=\"1\" class=\"dataframe\">\n",
       "  <thead>\n",
       "    <tr style=\"text-align: right;\">\n",
       "      <th></th>\n",
       "      <th>Employee_ID</th>\n",
       "      <th>Gender</th>\n",
       "      <th>Age</th>\n",
       "      <th>Education_Level</th>\n",
       "      <th>Relationship_Status</th>\n",
       "      <th>Hometown</th>\n",
       "      <th>Unit</th>\n",
       "      <th>Decision_skill_possess</th>\n",
       "      <th>Time_of_service</th>\n",
       "      <th>Time_since_promotion</th>\n",
       "      <th>...</th>\n",
       "      <th>Compensation_and_Benefits</th>\n",
       "      <th>Work_Life_balance</th>\n",
       "      <th>VAR1</th>\n",
       "      <th>VAR2</th>\n",
       "      <th>VAR3</th>\n",
       "      <th>VAR4</th>\n",
       "      <th>VAR5</th>\n",
       "      <th>VAR6</th>\n",
       "      <th>VAR7</th>\n",
       "      <th>Attrition_rate</th>\n",
       "    </tr>\n",
       "  </thead>\n",
       "  <tbody>\n",
       "    <tr>\n",
       "      <th>0</th>\n",
       "      <td>EID_23371</td>\n",
       "      <td>F</td>\n",
       "      <td>42.0</td>\n",
       "      <td>4</td>\n",
       "      <td>Married</td>\n",
       "      <td>Franklin</td>\n",
       "      <td>IT</td>\n",
       "      <td>Conceptual</td>\n",
       "      <td>4.0</td>\n",
       "      <td>4</td>\n",
       "      <td>...</td>\n",
       "      <td>type2</td>\n",
       "      <td>3.0</td>\n",
       "      <td>4</td>\n",
       "      <td>0.7516</td>\n",
       "      <td>1.8688</td>\n",
       "      <td>2.0</td>\n",
       "      <td>4</td>\n",
       "      <td>5</td>\n",
       "      <td>3</td>\n",
       "      <td>0.1841</td>\n",
       "    </tr>\n",
       "    <tr>\n",
       "      <th>1</th>\n",
       "      <td>EID_18000</td>\n",
       "      <td>M</td>\n",
       "      <td>24.0</td>\n",
       "      <td>3</td>\n",
       "      <td>Single</td>\n",
       "      <td>Springfield</td>\n",
       "      <td>Logistics</td>\n",
       "      <td>Analytical</td>\n",
       "      <td>5.0</td>\n",
       "      <td>4</td>\n",
       "      <td>...</td>\n",
       "      <td>type2</td>\n",
       "      <td>4.0</td>\n",
       "      <td>3</td>\n",
       "      <td>-0.9612</td>\n",
       "      <td>-0.4537</td>\n",
       "      <td>2.0</td>\n",
       "      <td>3</td>\n",
       "      <td>5</td>\n",
       "      <td>3</td>\n",
       "      <td>0.0670</td>\n",
       "    </tr>\n",
       "    <tr>\n",
       "      <th>2</th>\n",
       "      <td>EID_3891</td>\n",
       "      <td>F</td>\n",
       "      <td>58.0</td>\n",
       "      <td>3</td>\n",
       "      <td>Married</td>\n",
       "      <td>Clinton</td>\n",
       "      <td>Quality</td>\n",
       "      <td>Conceptual</td>\n",
       "      <td>27.0</td>\n",
       "      <td>3</td>\n",
       "      <td>...</td>\n",
       "      <td>type2</td>\n",
       "      <td>1.0</td>\n",
       "      <td>4</td>\n",
       "      <td>-0.9612</td>\n",
       "      <td>-0.4537</td>\n",
       "      <td>3.0</td>\n",
       "      <td>3</td>\n",
       "      <td>8</td>\n",
       "      <td>3</td>\n",
       "      <td>0.0851</td>\n",
       "    </tr>\n",
       "    <tr>\n",
       "      <th>3</th>\n",
       "      <td>EID_17492</td>\n",
       "      <td>F</td>\n",
       "      <td>26.0</td>\n",
       "      <td>3</td>\n",
       "      <td>Single</td>\n",
       "      <td>Lebanon</td>\n",
       "      <td>Human Resource Management</td>\n",
       "      <td>Behavioral</td>\n",
       "      <td>4.0</td>\n",
       "      <td>3</td>\n",
       "      <td>...</td>\n",
       "      <td>type2</td>\n",
       "      <td>1.0</td>\n",
       "      <td>3</td>\n",
       "      <td>-1.8176</td>\n",
       "      <td>-0.4537</td>\n",
       "      <td>NaN</td>\n",
       "      <td>3</td>\n",
       "      <td>7</td>\n",
       "      <td>3</td>\n",
       "      <td>0.0668</td>\n",
       "    </tr>\n",
       "    <tr>\n",
       "      <th>4</th>\n",
       "      <td>EID_22534</td>\n",
       "      <td>F</td>\n",
       "      <td>31.0</td>\n",
       "      <td>1</td>\n",
       "      <td>Married</td>\n",
       "      <td>Springfield</td>\n",
       "      <td>Logistics</td>\n",
       "      <td>Conceptual</td>\n",
       "      <td>5.0</td>\n",
       "      <td>4</td>\n",
       "      <td>...</td>\n",
       "      <td>type3</td>\n",
       "      <td>3.0</td>\n",
       "      <td>1</td>\n",
       "      <td>0.7516</td>\n",
       "      <td>-0.4537</td>\n",
       "      <td>2.0</td>\n",
       "      <td>2</td>\n",
       "      <td>8</td>\n",
       "      <td>2</td>\n",
       "      <td>0.1827</td>\n",
       "    </tr>\n",
       "  </tbody>\n",
       "</table>\n",
       "<p>5 rows × 24 columns</p>\n",
       "</div>"
      ],
      "text/plain": [
       "  Employee_ID Gender   Age  Education_Level Relationship_Status     Hometown  \\\n",
       "0   EID_23371      F  42.0                4             Married     Franklin   \n",
       "1   EID_18000      M  24.0                3              Single  Springfield   \n",
       "2    EID_3891      F  58.0                3             Married      Clinton   \n",
       "3   EID_17492      F  26.0                3              Single      Lebanon   \n",
       "4   EID_22534      F  31.0                1             Married  Springfield   \n",
       "\n",
       "                        Unit Decision_skill_possess  Time_of_service  \\\n",
       "0                         IT             Conceptual              4.0   \n",
       "1                  Logistics             Analytical              5.0   \n",
       "2                    Quality             Conceptual             27.0   \n",
       "3  Human Resource Management             Behavioral              4.0   \n",
       "4                  Logistics             Conceptual              5.0   \n",
       "\n",
       "   Time_since_promotion  ...  Compensation_and_Benefits  Work_Life_balance  \\\n",
       "0                     4  ...                      type2                3.0   \n",
       "1                     4  ...                      type2                4.0   \n",
       "2                     3  ...                      type2                1.0   \n",
       "3                     3  ...                      type2                1.0   \n",
       "4                     4  ...                      type3                3.0   \n",
       "\n",
       "   VAR1    VAR2    VAR3  VAR4  VAR5  VAR6  VAR7  Attrition_rate  \n",
       "0     4  0.7516  1.8688   2.0     4     5     3          0.1841  \n",
       "1     3 -0.9612 -0.4537   2.0     3     5     3          0.0670  \n",
       "2     4 -0.9612 -0.4537   3.0     3     8     3          0.0851  \n",
       "3     3 -1.8176 -0.4537   NaN     3     7     3          0.0668  \n",
       "4     1  0.7516 -0.4537   2.0     2     8     2          0.1827  \n",
       "\n",
       "[5 rows x 24 columns]"
      ]
     },
     "execution_count": 3,
     "metadata": {},
     "output_type": "execute_result"
    }
   ],
   "source": [
    "df.head()"
   ]
  },
  {
   "cell_type": "code",
   "execution_count": 4,
   "metadata": {},
   "outputs": [],
   "source": [
    "df=df.drop(['Employee_ID'],axis=1)"
   ]
  },
  {
   "cell_type": "code",
   "execution_count": 278,
   "metadata": {},
   "outputs": [],
   "source": [
    "df_drop=df.dropna()"
   ]
  },
  {
   "cell_type": "code",
   "execution_count": 5,
   "metadata": {},
   "outputs": [],
   "source": [
    "cols=['Age','Education_Level','Time_of_service','Time_since_promotion','growth_rate','Travel_Rate','Post_Level','Pay_Scale','Work_Life_balance','VAR1','VAR2','VAR3','VAR4','VAR5','VAR6','VAR7','Attrition_rate']\n"
   ]
  },
  {
   "cell_type": "code",
   "execution_count": 6,
   "metadata": {},
   "outputs": [],
   "source": [
    "df_mean=df.mean()"
   ]
  },
  {
   "cell_type": "code",
   "execution_count": 7,
   "metadata": {},
   "outputs": [
    {
     "data": {
      "text/plain": [
       "Age                     39.622799\n",
       "Education_Level          3.187857\n",
       "Time_of_service         13.385064\n",
       "Time_since_promotion     2.367143\n",
       "growth_rate             47.064286\n",
       "Travel_Rate              0.817857\n",
       "Post_Level               2.798000\n",
       "Pay_Scale                6.006294\n",
       "Work_Life_balance        2.387895\n",
       "VAR1                     3.098571\n",
       "VAR2                    -0.008126\n",
       "VAR3                    -0.013606\n",
       "VAR4                     1.891078\n",
       "VAR5                     2.834143\n",
       "VAR6                     7.101286\n",
       "VAR7                     3.257000\n",
       "Attrition_rate           0.189376\n",
       "dtype: float64"
      ]
     },
     "execution_count": 7,
     "metadata": {},
     "output_type": "execute_result"
    }
   ],
   "source": [
    "df_mean"
   ]
  },
  {
   "cell_type": "code",
   "execution_count": 8,
   "metadata": {},
   "outputs": [],
   "source": [
    "for index,value in enumerate(cols):\n",
    "    df[value]=df[value].replace(np.nan,df_mean[index])"
   ]
  },
  {
   "cell_type": "code",
   "execution_count": null,
   "metadata": {},
   "outputs": [],
   "source": []
  },
  {
   "cell_type": "code",
   "execution_count": 9,
   "metadata": {},
   "outputs": [],
   "source": [
    "df_hot = pd.get_dummies(df)"
   ]
  },
  {
   "cell_type": "code",
   "execution_count": 221,
   "metadata": {},
   "outputs": [
    {
     "data": {
      "text/html": [
       "<div>\n",
       "<style scoped>\n",
       "    .dataframe tbody tr th:only-of-type {\n",
       "        vertical-align: middle;\n",
       "    }\n",
       "\n",
       "    .dataframe tbody tr th {\n",
       "        vertical-align: top;\n",
       "    }\n",
       "\n",
       "    .dataframe thead th {\n",
       "        text-align: right;\n",
       "    }\n",
       "</style>\n",
       "<table border=\"1\" class=\"dataframe\">\n",
       "  <thead>\n",
       "    <tr style=\"text-align: right;\">\n",
       "      <th></th>\n",
       "      <th>Age</th>\n",
       "      <th>Education_Level</th>\n",
       "      <th>Time_of_service</th>\n",
       "      <th>Time_since_promotion</th>\n",
       "      <th>growth_rate</th>\n",
       "      <th>Travel_Rate</th>\n",
       "      <th>Post_Level</th>\n",
       "      <th>Pay_Scale</th>\n",
       "      <th>Work_Life_balance</th>\n",
       "      <th>VAR1</th>\n",
       "      <th>...</th>\n",
       "      <th>Unit_Security</th>\n",
       "      <th>Decision_skill_possess_Analytical</th>\n",
       "      <th>Decision_skill_possess_Behavioral</th>\n",
       "      <th>Decision_skill_possess_Conceptual</th>\n",
       "      <th>Decision_skill_possess_Directive</th>\n",
       "      <th>Compensation_and_Benefits_type0</th>\n",
       "      <th>Compensation_and_Benefits_type1</th>\n",
       "      <th>Compensation_and_Benefits_type2</th>\n",
       "      <th>Compensation_and_Benefits_type3</th>\n",
       "      <th>Compensation_and_Benefits_type4</th>\n",
       "    </tr>\n",
       "  </thead>\n",
       "  <tbody>\n",
       "    <tr>\n",
       "      <th>0</th>\n",
       "      <td>42.0</td>\n",
       "      <td>4</td>\n",
       "      <td>4.0</td>\n",
       "      <td>4</td>\n",
       "      <td>33</td>\n",
       "      <td>1</td>\n",
       "      <td>1</td>\n",
       "      <td>7.0</td>\n",
       "      <td>3.0</td>\n",
       "      <td>4</td>\n",
       "      <td>...</td>\n",
       "      <td>0</td>\n",
       "      <td>0</td>\n",
       "      <td>0</td>\n",
       "      <td>1</td>\n",
       "      <td>0</td>\n",
       "      <td>0</td>\n",
       "      <td>0</td>\n",
       "      <td>1</td>\n",
       "      <td>0</td>\n",
       "      <td>0</td>\n",
       "    </tr>\n",
       "    <tr>\n",
       "      <th>1</th>\n",
       "      <td>24.0</td>\n",
       "      <td>3</td>\n",
       "      <td>5.0</td>\n",
       "      <td>4</td>\n",
       "      <td>36</td>\n",
       "      <td>0</td>\n",
       "      <td>3</td>\n",
       "      <td>6.0</td>\n",
       "      <td>4.0</td>\n",
       "      <td>3</td>\n",
       "      <td>...</td>\n",
       "      <td>0</td>\n",
       "      <td>1</td>\n",
       "      <td>0</td>\n",
       "      <td>0</td>\n",
       "      <td>0</td>\n",
       "      <td>0</td>\n",
       "      <td>0</td>\n",
       "      <td>1</td>\n",
       "      <td>0</td>\n",
       "      <td>0</td>\n",
       "    </tr>\n",
       "    <tr>\n",
       "      <th>2</th>\n",
       "      <td>58.0</td>\n",
       "      <td>3</td>\n",
       "      <td>27.0</td>\n",
       "      <td>3</td>\n",
       "      <td>51</td>\n",
       "      <td>0</td>\n",
       "      <td>2</td>\n",
       "      <td>8.0</td>\n",
       "      <td>1.0</td>\n",
       "      <td>4</td>\n",
       "      <td>...</td>\n",
       "      <td>0</td>\n",
       "      <td>0</td>\n",
       "      <td>0</td>\n",
       "      <td>1</td>\n",
       "      <td>0</td>\n",
       "      <td>0</td>\n",
       "      <td>0</td>\n",
       "      <td>1</td>\n",
       "      <td>0</td>\n",
       "      <td>0</td>\n",
       "    </tr>\n",
       "    <tr>\n",
       "      <th>4</th>\n",
       "      <td>31.0</td>\n",
       "      <td>1</td>\n",
       "      <td>5.0</td>\n",
       "      <td>4</td>\n",
       "      <td>62</td>\n",
       "      <td>1</td>\n",
       "      <td>3</td>\n",
       "      <td>2.0</td>\n",
       "      <td>3.0</td>\n",
       "      <td>1</td>\n",
       "      <td>...</td>\n",
       "      <td>0</td>\n",
       "      <td>0</td>\n",
       "      <td>0</td>\n",
       "      <td>1</td>\n",
       "      <td>0</td>\n",
       "      <td>0</td>\n",
       "      <td>0</td>\n",
       "      <td>0</td>\n",
       "      <td>1</td>\n",
       "      <td>0</td>\n",
       "    </tr>\n",
       "    <tr>\n",
       "      <th>5</th>\n",
       "      <td>54.0</td>\n",
       "      <td>3</td>\n",
       "      <td>19.0</td>\n",
       "      <td>1</td>\n",
       "      <td>21</td>\n",
       "      <td>2</td>\n",
       "      <td>5</td>\n",
       "      <td>9.0</td>\n",
       "      <td>1.0</td>\n",
       "      <td>3</td>\n",
       "      <td>...</td>\n",
       "      <td>0</td>\n",
       "      <td>0</td>\n",
       "      <td>0</td>\n",
       "      <td>1</td>\n",
       "      <td>0</td>\n",
       "      <td>0</td>\n",
       "      <td>0</td>\n",
       "      <td>1</td>\n",
       "      <td>0</td>\n",
       "      <td>0</td>\n",
       "    </tr>\n",
       "  </tbody>\n",
       "</table>\n",
       "<p>5 rows × 47 columns</p>\n",
       "</div>"
      ],
      "text/plain": [
       "    Age  Education_Level  Time_of_service  Time_since_promotion  growth_rate  \\\n",
       "0  42.0                4              4.0                     4           33   \n",
       "1  24.0                3              5.0                     4           36   \n",
       "2  58.0                3             27.0                     3           51   \n",
       "4  31.0                1              5.0                     4           62   \n",
       "5  54.0                3             19.0                     1           21   \n",
       "\n",
       "   Travel_Rate  Post_Level  Pay_Scale  Work_Life_balance  VAR1  ...  \\\n",
       "0            1           1        7.0                3.0     4  ...   \n",
       "1            0           3        6.0                4.0     3  ...   \n",
       "2            0           2        8.0                1.0     4  ...   \n",
       "4            1           3        2.0                3.0     1  ...   \n",
       "5            2           5        9.0                1.0     3  ...   \n",
       "\n",
       "   Unit_Security  Decision_skill_possess_Analytical  \\\n",
       "0              0                                  0   \n",
       "1              0                                  1   \n",
       "2              0                                  0   \n",
       "4              0                                  0   \n",
       "5              0                                  0   \n",
       "\n",
       "   Decision_skill_possess_Behavioral  Decision_skill_possess_Conceptual  \\\n",
       "0                                  0                                  1   \n",
       "1                                  0                                  0   \n",
       "2                                  0                                  1   \n",
       "4                                  0                                  1   \n",
       "5                                  0                                  1   \n",
       "\n",
       "   Decision_skill_possess_Directive  Compensation_and_Benefits_type0  \\\n",
       "0                                 0                                0   \n",
       "1                                 0                                0   \n",
       "2                                 0                                0   \n",
       "4                                 0                                0   \n",
       "5                                 0                                0   \n",
       "\n",
       "   Compensation_and_Benefits_type1  Compensation_and_Benefits_type2  \\\n",
       "0                                0                                1   \n",
       "1                                0                                1   \n",
       "2                                0                                1   \n",
       "4                                0                                0   \n",
       "5                                0                                1   \n",
       "\n",
       "   Compensation_and_Benefits_type3  Compensation_and_Benefits_type4  \n",
       "0                                0                                0  \n",
       "1                                0                                0  \n",
       "2                                0                                0  \n",
       "4                                1                                0  \n",
       "5                                0                                0  \n",
       "\n",
       "[5 rows x 47 columns]"
      ]
     },
     "execution_count": 221,
     "metadata": {},
     "output_type": "execute_result"
    }
   ],
   "source": [
    "df_hot.head()"
   ]
  },
  {
   "cell_type": "code",
   "execution_count": 10,
   "metadata": {},
   "outputs": [],
   "source": [
    "df_hot.to_csv('empleave/encoded.csv')"
   ]
  },
  {
   "cell_type": "code",
   "execution_count": 10,
   "metadata": {},
   "outputs": [],
   "source": [
    "X=df_hot.loc[:,df_hot.columns!='Attrition_rate']"
   ]
  },
  {
   "cell_type": "code",
   "execution_count": 11,
   "metadata": {},
   "outputs": [],
   "source": [
    "y=df_hot.loc[:,['Attrition_rate']]"
   ]
  },
  {
   "cell_type": "code",
   "execution_count": 78,
   "metadata": {},
   "outputs": [],
   "source": [
    "from sklearn.linear_model import LinearRegression\n",
    "reg = LinearRegression().fit(X, y)"
   ]
  },
  {
   "cell_type": "code",
   "execution_count": 27,
   "metadata": {},
   "outputs": [
    {
     "data": {
      "text/plain": [
       "Employee_ID                    0\n",
       "Gender                         0\n",
       "Age                          412\n",
       "Education_Level                0\n",
       "Relationship_Status            0\n",
       "Hometown                       0\n",
       "Unit                           0\n",
       "Decision_skill_possess         0\n",
       "Time_of_service              144\n",
       "Time_since_promotion           0\n",
       "growth_rate                    0\n",
       "Travel_Rate                    0\n",
       "Post_Level                     0\n",
       "Pay_Scale                      9\n",
       "Compensation_and_Benefits      0\n",
       "Work_Life_balance             11\n",
       "VAR1                           0\n",
       "VAR2                         577\n",
       "VAR3                           0\n",
       "VAR4                         656\n",
       "VAR5                           0\n",
       "VAR6                           0\n",
       "VAR7                           0\n",
       "Attrition_rate                 0\n",
       "dtype: int64"
      ]
     },
     "execution_count": 27,
     "metadata": {},
     "output_type": "execute_result"
    }
   ],
   "source": [
    "df.isna().sum()"
   ]
  },
  {
   "cell_type": "code",
   "execution_count": 23,
   "metadata": {},
   "outputs": [],
   "source": [
    "df_test=pd.read_csv('empleave/Test.csv')"
   ]
  },
  {
   "cell_type": "code",
   "execution_count": 14,
   "metadata": {},
   "outputs": [],
   "source": [
    "df_test=df_test.drop(['Employee_ID'],axis=1)"
   ]
  },
  {
   "cell_type": "code",
   "execution_count": 15,
   "metadata": {},
   "outputs": [],
   "source": [
    "cols2=['Age','Education_Level','Time_of_service','Time_since_promotion','growth_rate','Travel_Rate','Post_Level','Pay_Scale','Work_Life_balance','VAR1','VAR2','VAR3','VAR4','VAR5','VAR6','VAR7']\n"
   ]
  },
  {
   "cell_type": "code",
   "execution_count": 16,
   "metadata": {},
   "outputs": [],
   "source": [
    "df_mean2=df_test.mean()"
   ]
  },
  {
   "cell_type": "code",
   "execution_count": 17,
   "metadata": {},
   "outputs": [],
   "source": [
    "for index,value in enumerate(cols2):\n",
    "    df_test[value]=df_test[value].replace(np.nan,df_mean2[index])"
   ]
  },
  {
   "cell_type": "code",
   "execution_count": 18,
   "metadata": {},
   "outputs": [],
   "source": [
    "df_hot2 = pd.get_dummies(df_test)"
   ]
  },
  {
   "cell_type": "code",
   "execution_count": 19,
   "metadata": {},
   "outputs": [],
   "source": [
    "X2=df_hot2.loc[:,df_hot2.columns!='Attrition_rate']"
   ]
  },
  {
   "cell_type": "code",
   "execution_count": 293,
   "metadata": {},
   "outputs": [
    {
     "data": {
      "text/plain": [
       "(3000, 40)"
      ]
     },
     "execution_count": 293,
     "metadata": {},
     "output_type": "execute_result"
    }
   ],
   "source": [
    "X2.shape"
   ]
  },
  {
   "cell_type": "code",
   "execution_count": 294,
   "metadata": {},
   "outputs": [
    {
     "data": {
      "text/plain": [
       "(7000, 40)"
      ]
     },
     "execution_count": 294,
     "metadata": {},
     "output_type": "execute_result"
    }
   ],
   "source": [
    "X.shape"
   ]
  },
  {
   "cell_type": "code",
   "execution_count": 85,
   "metadata": {},
   "outputs": [],
   "source": [
    "y_test=reg.predict(X2)"
   ]
  },
  {
   "cell_type": "code",
   "execution_count": 86,
   "metadata": {},
   "outputs": [
    {
     "data": {
      "text/plain": [
       "array([[0.21495822],\n",
       "       [0.19372812],\n",
       "       [0.19065486],\n",
       "       ...,\n",
       "       [0.1660742 ],\n",
       "       [0.15113819],\n",
       "       [0.19773341]])"
      ]
     },
     "execution_count": 86,
     "metadata": {},
     "output_type": "execute_result"
    }
   ],
   "source": [
    "y_test"
   ]
  },
  {
   "cell_type": "code",
   "execution_count": 88,
   "metadata": {},
   "outputs": [],
   "source": [
    "y_test=pd.DataFrame(y_test,columns=['Attrition_rate'])"
   ]
  },
  {
   "cell_type": "code",
   "execution_count": 90,
   "metadata": {},
   "outputs": [
    {
     "data": {
      "text/plain": [
       "(3000, 1)"
      ]
     },
     "execution_count": 90,
     "metadata": {},
     "output_type": "execute_result"
    }
   ],
   "source": [
    "y_test.shape"
   ]
  },
  {
   "cell_type": "code",
   "execution_count": 24,
   "metadata": {},
   "outputs": [],
   "source": [
    "test_id=df_test.loc[:,['Employee_ID']]"
   ]
  },
  {
   "cell_type": "code",
   "execution_count": 87,
   "metadata": {},
   "outputs": [
    {
     "data": {
      "text/plain": [
       "(3000, 1)"
      ]
     },
     "execution_count": 87,
     "metadata": {},
     "output_type": "execute_result"
    }
   ],
   "source": [
    "test_id.shape"
   ]
  },
  {
   "cell_type": "code",
   "execution_count": 91,
   "metadata": {},
   "outputs": [],
   "source": []
  },
  {
   "cell_type": "code",
   "execution_count": 95,
   "metadata": {},
   "outputs": [],
   "source": [
    "result=pd.concat([test_id,y_test],axis=1)"
   ]
  },
  {
   "cell_type": "code",
   "execution_count": 98,
   "metadata": {},
   "outputs": [],
   "source": [
    "result.to_csv('empleave/output.csv')"
   ]
  },
  {
   "cell_type": "code",
   "execution_count": 105,
   "metadata": {},
   "outputs": [
    {
     "ename": "SyntaxError",
     "evalue": "invalid syntax (<ipython-input-105-96e6c02ba0b1>, line 1)",
     "output_type": "error",
     "traceback": [
      "\u001b[1;36m  File \u001b[1;32m\"<ipython-input-105-96e6c02ba0b1>\"\u001b[1;36m, line \u001b[1;32m1\u001b[0m\n\u001b[1;33m    ----81.168 accuracy\u001b[0m\n\u001b[1;37m                      ^\u001b[0m\n\u001b[1;31mSyntaxError\u001b[0m\u001b[1;31m:\u001b[0m invalid syntax\n"
     ]
    }
   ],
   "source": [
    "----81.168 accuracy"
   ]
  },
  {
   "cell_type": "markdown",
   "metadata": {},
   "source": [
    "## lassoregression"
   ]
  },
  {
   "cell_type": "code",
   "execution_count": 295,
   "metadata": {},
   "outputs": [],
   "source": [
    "from sklearn import linear_model\n",
    "clf = linear_model.Lasso(alpha=1.0)"
   ]
  },
  {
   "cell_type": "code",
   "execution_count": 296,
   "metadata": {},
   "outputs": [
    {
     "data": {
      "text/plain": [
       "Lasso(alpha=1.0, copy_X=True, fit_intercept=True, max_iter=1000,\n",
       "      normalize=False, positive=False, precompute=False, random_state=None,\n",
       "      selection='cyclic', tol=0.0001, warm_start=False)"
      ]
     },
     "execution_count": 296,
     "metadata": {},
     "output_type": "execute_result"
    }
   ],
   "source": [
    "clf.fit(X,y)"
   ]
  },
  {
   "cell_type": "code",
   "execution_count": 310,
   "metadata": {},
   "outputs": [],
   "source": [
    "las_test=clf.predict(X2)"
   ]
  },
  {
   "cell_type": "code",
   "execution_count": 311,
   "metadata": {},
   "outputs": [],
   "source": [
    "las_test=pd.DataFrame(las_test,columns=['Attrition_rate'])"
   ]
  },
  {
   "cell_type": "code",
   "execution_count": 312,
   "metadata": {},
   "outputs": [],
   "source": [
    "result=pd.concat([test_id,las_test],axis=1)"
   ]
  },
  {
   "cell_type": "code",
   "execution_count": 313,
   "metadata": {},
   "outputs": [],
   "source": [
    "result.to_csv('empleave/outputlasso.csv')"
   ]
  },
  {
   "cell_type": "code",
   "execution_count": null,
   "metadata": {},
   "outputs": [],
   "source": []
  },
  {
   "cell_type": "markdown",
   "metadata": {},
   "source": [
    "## SV regression"
   ]
  },
  {
   "cell_type": "code",
   "execution_count": 129,
   "metadata": {},
   "outputs": [
    {
     "name": "stderr",
     "output_type": "stream",
     "text": [
      "C:\\Users\\dmsss\\Anaconda3\\lib\\site-packages\\sklearn\\utils\\validation.py:724: DataConversionWarning: A column-vector y was passed when a 1d array was expected. Please change the shape of y to (n_samples, ), for example using ravel().\n",
      "  y = column_or_1d(y, warn=True)\n"
     ]
    },
    {
     "data": {
      "text/plain": [
       "Pipeline(memory=None,\n",
       "         steps=[('standardscaler',\n",
       "                 StandardScaler(copy=True, with_mean=True, with_std=True)),\n",
       "                ('svr',\n",
       "                 SVR(C=1.0, cache_size=200, coef0=0.0, degree=3, epsilon=0.2,\n",
       "                     gamma='auto_deprecated', kernel='sigmoid', max_iter=-1,\n",
       "                     shrinking=True, tol=0.001, verbose=False))],\n",
       "         verbose=False)"
      ]
     },
     "execution_count": 129,
     "metadata": {},
     "output_type": "execute_result"
    }
   ],
   "source": [
    "from sklearn.svm import SVR\n",
    "from sklearn.pipeline import make_pipeline\n",
    "from sklearn.preprocessing import StandardScaler\n",
    "clf = make_pipeline(StandardScaler(), SVR(kernel='sigmoid',C=1.0, epsilon=0.2))\n",
    "clf.fit(X, y) "
   ]
  },
  {
   "cell_type": "code",
   "execution_count": 130,
   "metadata": {},
   "outputs": [],
   "source": [
    "svr_test=clf.predict(X2)"
   ]
  },
  {
   "cell_type": "code",
   "execution_count": 131,
   "metadata": {},
   "outputs": [],
   "source": [
    "svr_test=pd.DataFrame(svr_test,columns=['Attrition_rate'])"
   ]
  },
  {
   "cell_type": "code",
   "execution_count": 132,
   "metadata": {},
   "outputs": [],
   "source": [
    "result=pd.concat([test_id,svr_test],axis=1)"
   ]
  },
  {
   "cell_type": "code",
   "execution_count": 133,
   "metadata": {},
   "outputs": [],
   "source": [
    "result.to_csv('empleave/outputsvr.csv')"
   ]
  },
  {
   "cell_type": "code",
   "execution_count": null,
   "metadata": {},
   "outputs": [],
   "source": []
  },
  {
   "cell_type": "markdown",
   "metadata": {},
   "source": [
    "## Neural Networks"
   ]
  },
  {
   "cell_type": "code",
   "execution_count": 142,
   "metadata": {},
   "outputs": [
    {
     "name": "stdout",
     "output_type": "stream",
     "text": [
      "Model: \"sequential_3\"\n",
      "_________________________________________________________________\n",
      "Layer (type)                 Output Shape              Param #   \n",
      "=================================================================\n",
      "dense_6 (Dense)              (None, 32)                1504      \n",
      "_________________________________________________________________\n",
      "dense_7 (Dense)              (None, 64)                2112      \n",
      "_________________________________________________________________\n",
      "dense_8 (Dense)              (None, 128)               8320      \n",
      "_________________________________________________________________\n",
      "dense_9 (Dense)              (None, 256)               33024     \n",
      "_________________________________________________________________\n",
      "dense_10 (Dense)             (None, 1)                 257       \n",
      "=================================================================\n",
      "Total params: 45,217\n",
      "Trainable params: 45,217\n",
      "Non-trainable params: 0\n",
      "_________________________________________________________________\n"
     ]
    }
   ],
   "source": [
    "\n",
    "NN_model = Sequential()\n",
    "\n",
    "# The Input Layer :\n",
    "NN_model.add(Dense(32, kernel_initializer='normal',input_dim = X.shape[1], activation='relu'))\n",
    "\n",
    "# The Hidden Layers :\n",
    "NN_model.add(Dense(64, kernel_initializer='normal',activation='relu'))\n",
    "NN_model.add(Dense(128, kernel_initializer='normal',activation='relu'))\n",
    "NN_model.add(Dense(256, kernel_initializer='normal',activation='relu'))\n",
    "\n",
    "# The Output Layer :\n",
    "NN_model.add(Dense(1, kernel_initializer='normal',activation='linear'))\n",
    "\n",
    "# Compile the network :\n",
    "NN_model.compile(loss='mean_absolute_error', optimizer='adam', metrics=['mean_absolute_error'])\n",
    "NN_model.summary()"
   ]
  },
  {
   "cell_type": "code",
   "execution_count": 143,
   "metadata": {
    "scrolled": true
   },
   "outputs": [
    {
     "name": "stdout",
     "output_type": "stream",
     "text": [
      "Train on 5600 samples, validate on 1400 samples\n",
      "Epoch 1/100\n",
      "5600/5600 [==============================] - 1s 100us/step - loss: 0.1197 - mean_absolute_error: 0.1197 - val_loss: 0.1258 - val_mean_absolute_error: 0.1258\n",
      "Epoch 2/100\n",
      "5600/5600 [==============================] - 0s 66us/step - loss: 0.1178 - mean_absolute_error: 0.1178 - val_loss: 0.1279 - val_mean_absolute_error: 0.1279\n",
      "Epoch 3/100\n",
      "5600/5600 [==============================] - 0s 64us/step - loss: 0.1176 - mean_absolute_error: 0.1176 - val_loss: 0.1257 - val_mean_absolute_error: 0.1257\n",
      "Epoch 4/100\n",
      "5600/5600 [==============================] - 0s 65us/step - loss: 0.1174 - mean_absolute_error: 0.1174 - val_loss: 0.1257 - val_mean_absolute_error: 0.1257\n",
      "Epoch 5/100\n",
      "5600/5600 [==============================] - 0s 65us/step - loss: 0.1175 - mean_absolute_error: 0.1175 - val_loss: 0.1266 - val_mean_absolute_error: 0.1266\n",
      "Epoch 6/100\n",
      "5600/5600 [==============================] - 0s 65us/step - loss: 0.1176 - mean_absolute_error: 0.1176 - val_loss: 0.1258 - val_mean_absolute_error: 0.1258\n",
      "Epoch 7/100\n",
      "5600/5600 [==============================] - 0s 67us/step - loss: 0.1174 - mean_absolute_error: 0.1174 - val_loss: 0.1257 - val_mean_absolute_error: 0.1257\n",
      "Epoch 8/100\n",
      "5600/5600 [==============================] - 0s 71us/step - loss: 0.1174 - mean_absolute_error: 0.1174 - val_loss: 0.1259 - val_mean_absolute_error: 0.1259\n",
      "Epoch 9/100\n",
      "5600/5600 [==============================] - 1s 92us/step - loss: 0.1172 - mean_absolute_error: 0.1172 - val_loss: 0.1258 - val_mean_absolute_error: 0.1258\n",
      "Epoch 10/100\n",
      "5600/5600 [==============================] - 0s 67us/step - loss: 0.1173 - mean_absolute_error: 0.1173 - val_loss: 0.1258 - val_mean_absolute_error: 0.1258\n",
      "Epoch 11/100\n",
      "5600/5600 [==============================] - 0s 60us/step - loss: 0.1175 - mean_absolute_error: 0.1175 - val_loss: 0.1264 - val_mean_absolute_error: 0.1264\n",
      "Epoch 12/100\n",
      "5600/5600 [==============================] - 0s 68us/step - loss: 0.1171 - mean_absolute_error: 0.1171 - val_loss: 0.1262 - val_mean_absolute_error: 0.1262\n",
      "Epoch 13/100\n",
      "5600/5600 [==============================] - 0s 42us/step - loss: 0.1173 - mean_absolute_error: 0.1173 - val_loss: 0.1258 - val_mean_absolute_error: 0.1258\n",
      "Epoch 14/100\n",
      "5600/5600 [==============================] - 0s 43us/step - loss: 0.1174 - mean_absolute_error: 0.1174 - val_loss: 0.1274 - val_mean_absolute_error: 0.1274\n",
      "Epoch 15/100\n",
      "5600/5600 [==============================] - 0s 52us/step - loss: 0.1173 - mean_absolute_error: 0.1173 - val_loss: 0.1257 - val_mean_absolute_error: 0.1257\n",
      "Epoch 16/100\n",
      "5600/5600 [==============================] - 0s 44us/step - loss: 0.1172 - mean_absolute_error: 0.1172 - val_loss: 0.1266 - val_mean_absolute_error: 0.1266\n",
      "Epoch 17/100\n",
      "5600/5600 [==============================] - 0s 49us/step - loss: 0.1173 - mean_absolute_error: 0.1173 - val_loss: 0.1264 - val_mean_absolute_error: 0.1264\n",
      "Epoch 18/100\n",
      "5600/5600 [==============================] - 0s 40us/step - loss: 0.1174 - mean_absolute_error: 0.1174 - val_loss: 0.1257 - val_mean_absolute_error: 0.1257\n",
      "Epoch 19/100\n",
      "5600/5600 [==============================] - 0s 46us/step - loss: 0.1172 - mean_absolute_error: 0.1172 - val_loss: 0.1260 - val_mean_absolute_error: 0.1260\n",
      "Epoch 20/100\n",
      "5600/5600 [==============================] - 0s 44us/step - loss: 0.1172 - mean_absolute_error: 0.1172 - val_loss: 0.1257 - val_mean_absolute_error: 0.1257\n",
      "Epoch 21/100\n",
      "5600/5600 [==============================] - 0s 41us/step - loss: 0.1173 - mean_absolute_error: 0.1173 - val_loss: 0.1275 - val_mean_absolute_error: 0.1275\n",
      "Epoch 22/100\n",
      "5600/5600 [==============================] - 0s 42us/step - loss: 0.1172 - mean_absolute_error: 0.1172 - val_loss: 0.1258 - val_mean_absolute_error: 0.1258\n",
      "Epoch 23/100\n",
      "5600/5600 [==============================] - 0s 49us/step - loss: 0.1173 - mean_absolute_error: 0.1173 - val_loss: 0.1262 - val_mean_absolute_error: 0.1262\n",
      "Epoch 24/100\n",
      "5600/5600 [==============================] - 0s 59us/step - loss: 0.1173 - mean_absolute_error: 0.1173 - val_loss: 0.1259 - val_mean_absolute_error: 0.1259\n",
      "Epoch 25/100\n",
      "5600/5600 [==============================] - 0s 53us/step - loss: 0.1172 - mean_absolute_error: 0.1172 - val_loss: 0.1261 - val_mean_absolute_error: 0.1261\n",
      "Epoch 26/100\n",
      "5600/5600 [==============================] - 0s 53us/step - loss: 0.1172 - mean_absolute_error: 0.1172 - val_loss: 0.1259 - val_mean_absolute_error: 0.1259\n",
      "Epoch 27/100\n",
      "5600/5600 [==============================] - 0s 56us/step - loss: 0.1172 - mean_absolute_error: 0.1172 - val_loss: 0.1258 - val_mean_absolute_error: 0.1258\n",
      "Epoch 28/100\n",
      "5600/5600 [==============================] - 0s 55us/step - loss: 0.1170 - mean_absolute_error: 0.1170 - val_loss: 0.1259 - val_mean_absolute_error: 0.1259\n",
      "Epoch 29/100\n",
      "5600/5600 [==============================] - 0s 58us/step - loss: 0.1171 - mean_absolute_error: 0.1171 - val_loss: 0.1269 - val_mean_absolute_error: 0.1269\n",
      "Epoch 30/100\n",
      "5600/5600 [==============================] - 0s 56us/step - loss: 0.1171 - mean_absolute_error: 0.1171 - val_loss: 0.1259 - val_mean_absolute_error: 0.1259\n",
      "Epoch 31/100\n",
      "5600/5600 [==============================] - 0s 56us/step - loss: 0.1171 - mean_absolute_error: 0.1171 - val_loss: 0.1269 - val_mean_absolute_error: 0.1269\n",
      "Epoch 32/100\n",
      "5600/5600 [==============================] - 0s 50us/step - loss: 0.1169 - mean_absolute_error: 0.1169 - val_loss: 0.1260 - val_mean_absolute_error: 0.1260\n",
      "Epoch 33/100\n",
      "5600/5600 [==============================] - 0s 50us/step - loss: 0.1169 - mean_absolute_error: 0.1169 - val_loss: 0.1262 - val_mean_absolute_error: 0.1262\n",
      "Epoch 34/100\n",
      "5600/5600 [==============================] - 0s 48us/step - loss: 0.1170 - mean_absolute_error: 0.1170 - val_loss: 0.1265 - val_mean_absolute_error: 0.1265\n",
      "Epoch 35/100\n",
      "5600/5600 [==============================] - 0s 46us/step - loss: 0.1167 - mean_absolute_error: 0.1167 - val_loss: 0.1261 - val_mean_absolute_error: 0.1261\n",
      "Epoch 36/100\n",
      "5600/5600 [==============================] - 0s 49us/step - loss: 0.1171 - mean_absolute_error: 0.1171 - val_loss: 0.1260 - val_mean_absolute_error: 0.1260\n",
      "Epoch 37/100\n",
      "5600/5600 [==============================] - 0s 53us/step - loss: 0.1167 - mean_absolute_error: 0.1167 - val_loss: 0.1266 - val_mean_absolute_error: 0.1266\n",
      "Epoch 38/100\n",
      "5600/5600 [==============================] - 0s 41us/step - loss: 0.1166 - mean_absolute_error: 0.1166 - val_loss: 0.1263 - val_mean_absolute_error: 0.1263\n",
      "Epoch 39/100\n",
      "5600/5600 [==============================] - 0s 42us/step - loss: 0.1166 - mean_absolute_error: 0.1166 - val_loss: 0.1264 - val_mean_absolute_error: 0.1264\n",
      "Epoch 40/100\n",
      "5600/5600 [==============================] - 0s 43us/step - loss: 0.1167 - mean_absolute_error: 0.1167 - val_loss: 0.1267 - val_mean_absolute_error: 0.1267\n",
      "Epoch 41/100\n",
      "5600/5600 [==============================] - 0s 45us/step - loss: 0.1165 - mean_absolute_error: 0.1165 - val_loss: 0.1260 - val_mean_absolute_error: 0.1260\n",
      "Epoch 42/100\n",
      "5600/5600 [==============================] - 0s 41us/step - loss: 0.1168 - mean_absolute_error: 0.1168 - val_loss: 0.1261 - val_mean_absolute_error: 0.1261\n",
      "Epoch 43/100\n",
      "5600/5600 [==============================] - 0s 39us/step - loss: 0.1167 - mean_absolute_error: 0.1167 - val_loss: 0.1257 - val_mean_absolute_error: 0.1257\n",
      "Epoch 44/100\n",
      "5600/5600 [==============================] - 0s 45us/step - loss: 0.1166 - mean_absolute_error: 0.1166 - val_loss: 0.1259 - val_mean_absolute_error: 0.1259\n",
      "Epoch 45/100\n",
      "5600/5600 [==============================] - 0s 62us/step - loss: 0.1165 - mean_absolute_error: 0.1165 - val_loss: 0.1257 - val_mean_absolute_error: 0.1257\n",
      "Epoch 46/100\n",
      "5600/5600 [==============================] - 0s 55us/step - loss: 0.1163 - mean_absolute_error: 0.1163 - val_loss: 0.1264 - val_mean_absolute_error: 0.1264\n",
      "Epoch 47/100\n",
      "5600/5600 [==============================] - 0s 51us/step - loss: 0.1163 - mean_absolute_error: 0.1163 - val_loss: 0.1266 - val_mean_absolute_error: 0.1266\n",
      "Epoch 48/100\n",
      "5600/5600 [==============================] - 0s 59us/step - loss: 0.1162 - mean_absolute_error: 0.1162 - val_loss: 0.1269 - val_mean_absolute_error: 0.1269\n",
      "Epoch 49/100\n",
      "5600/5600 [==============================] - 0s 52us/step - loss: 0.1161 - mean_absolute_error: 0.1161 - val_loss: 0.1265 - val_mean_absolute_error: 0.1265\n",
      "Epoch 50/100\n",
      "5600/5600 [==============================] - 0s 76us/step - loss: 0.1161 - mean_absolute_error: 0.1161 - val_loss: 0.1264 - val_mean_absolute_error: 0.1264\n",
      "Epoch 51/100\n",
      "5600/5600 [==============================] - 0s 65us/step - loss: 0.1160 - mean_absolute_error: 0.1160 - val_loss: 0.1259 - val_mean_absolute_error: 0.1259\n",
      "Epoch 52/100\n",
      "5600/5600 [==============================] - 0s 63us/step - loss: 0.1162 - mean_absolute_error: 0.1162 - val_loss: 0.1264 - val_mean_absolute_error: 0.1264\n",
      "Epoch 53/100\n",
      "5600/5600 [==============================] - 0s 58us/step - loss: 0.1160 - mean_absolute_error: 0.1160 - val_loss: 0.1265 - val_mean_absolute_error: 0.1265\n",
      "Epoch 54/100\n",
      "5600/5600 [==============================] - 0s 67us/step - loss: 0.1159 - mean_absolute_error: 0.1159 - val_loss: 0.1260 - val_mean_absolute_error: 0.1260\n",
      "Epoch 55/100\n",
      "5600/5600 [==============================] - 0s 61us/step - loss: 0.1158 - mean_absolute_error: 0.1158 - val_loss: 0.1268 - val_mean_absolute_error: 0.1268\n",
      "Epoch 56/100\n",
      "5600/5600 [==============================] - 0s 59us/step - loss: 0.1156 - mean_absolute_error: 0.1156 - val_loss: 0.1276 - val_mean_absolute_error: 0.1276\n",
      "Epoch 57/100\n",
      "5600/5600 [==============================] - 0s 64us/step - loss: 0.1158 - mean_absolute_error: 0.1158 - val_loss: 0.1272 - val_mean_absolute_error: 0.1272\n",
      "Epoch 58/100\n",
      "5600/5600 [==============================] - 0s 60us/step - loss: 0.1159 - mean_absolute_error: 0.1159 - val_loss: 0.1261 - val_mean_absolute_error: 0.1261\n",
      "Epoch 59/100\n",
      "5600/5600 [==============================] - 0s 64us/step - loss: 0.1156 - mean_absolute_error: 0.1156 - val_loss: 0.1266 - val_mean_absolute_error: 0.1266\n",
      "Epoch 60/100\n",
      "5600/5600 [==============================] - 0s 61us/step - loss: 0.1157 - mean_absolute_error: 0.1157 - val_loss: 0.1261 - val_mean_absolute_error: 0.1261\n",
      "Epoch 61/100\n",
      "5600/5600 [==============================] - 0s 64us/step - loss: 0.1156 - mean_absolute_error: 0.1156 - val_loss: 0.1267 - val_mean_absolute_error: 0.1267\n",
      "Epoch 62/100\n",
      "5600/5600 [==============================] - 0s 71us/step - loss: 0.1155 - mean_absolute_error: 0.1155 - val_loss: 0.1269 - val_mean_absolute_error: 0.1269\n",
      "Epoch 63/100\n",
      "5600/5600 [==============================] - 0s 60us/step - loss: 0.1153 - mean_absolute_error: 0.1153 - val_loss: 0.1271 - val_mean_absolute_error: 0.1271\n",
      "Epoch 64/100\n",
      "5600/5600 [==============================] - 0s 65us/step - loss: 0.1152 - mean_absolute_error: 0.1152 - val_loss: 0.1270 - val_mean_absolute_error: 0.1270\n",
      "Epoch 65/100\n",
      "5600/5600 [==============================] - 0s 65us/step - loss: 0.1150 - mean_absolute_error: 0.1150 - val_loss: 0.1270 - val_mean_absolute_error: 0.1270\n",
      "Epoch 66/100\n",
      "5600/5600 [==============================] - 0s 47us/step - loss: 0.1149 - mean_absolute_error: 0.1149 - val_loss: 0.1272 - val_mean_absolute_error: 0.1272\n",
      "Epoch 67/100\n",
      "5600/5600 [==============================] - 0s 38us/step - loss: 0.1152 - mean_absolute_error: 0.1152 - val_loss: 0.1272 - val_mean_absolute_error: 0.1272\n",
      "Epoch 68/100\n",
      "5600/5600 [==============================] - 0s 58us/step - loss: 0.1152 - mean_absolute_error: 0.1152 - val_loss: 0.1277 - val_mean_absolute_error: 0.1277\n",
      "Epoch 69/100\n",
      "5600/5600 [==============================] - 0s 50us/step - loss: 0.1147 - mean_absolute_error: 0.1147 - val_loss: 0.1275 - val_mean_absolute_error: 0.1275\n",
      "Epoch 70/100\n",
      "5600/5600 [==============================] - 0s 42us/step - loss: 0.1148 - mean_absolute_error: 0.1148 - val_loss: 0.1281 - val_mean_absolute_error: 0.1281\n",
      "Epoch 71/100\n",
      "5600/5600 [==============================] - 0s 42us/step - loss: 0.1151 - mean_absolute_error: 0.1151 - val_loss: 0.1274 - val_mean_absolute_error: 0.1274\n",
      "Epoch 72/100\n",
      "5600/5600 [==============================] - 0s 43us/step - loss: 0.1157 - mean_absolute_error: 0.1157 - val_loss: 0.1267 - val_mean_absolute_error: 0.1267\n",
      "Epoch 73/100\n",
      "5600/5600 [==============================] - 0s 44us/step - loss: 0.1148 - mean_absolute_error: 0.1148 - val_loss: 0.1276 - val_mean_absolute_error: 0.1276\n",
      "Epoch 74/100\n",
      "5600/5600 [==============================] - 0s 46us/step - loss: 0.1147 - mean_absolute_error: 0.1147 - val_loss: 0.1279 - val_mean_absolute_error: 0.1279\n",
      "Epoch 75/100\n",
      "5600/5600 [==============================] - 0s 41us/step - loss: 0.1152 - mean_absolute_error: 0.1152 - val_loss: 0.1267 - val_mean_absolute_error: 0.1267\n",
      "Epoch 76/100\n",
      "5600/5600 [==============================] - 0s 42us/step - loss: 0.1148 - mean_absolute_error: 0.1148 - val_loss: 0.1277 - val_mean_absolute_error: 0.1277\n",
      "Epoch 77/100\n",
      "5600/5600 [==============================] - 0s 47us/step - loss: 0.1146 - mean_absolute_error: 0.1146 - val_loss: 0.1278 - val_mean_absolute_error: 0.1278\n",
      "Epoch 78/100\n",
      "5600/5600 [==============================] - 0s 44us/step - loss: 0.1147 - mean_absolute_error: 0.1147 - val_loss: 0.1277 - val_mean_absolute_error: 0.1277\n",
      "Epoch 79/100\n",
      "5600/5600 [==============================] - 0s 40us/step - loss: 0.1144 - mean_absolute_error: 0.1144 - val_loss: 0.1280 - val_mean_absolute_error: 0.1280\n",
      "Epoch 80/100\n",
      "5600/5600 [==============================] - 0s 43us/step - loss: 0.1145 - mean_absolute_error: 0.1145 - val_loss: 0.1302 - val_mean_absolute_error: 0.1302\n",
      "Epoch 81/100\n",
      "5600/5600 [==============================] - 0s 49us/step - loss: 0.1147 - mean_absolute_error: 0.1147 - val_loss: 0.1278 - val_mean_absolute_error: 0.1278\n",
      "Epoch 82/100\n",
      "5600/5600 [==============================] - 0s 42us/step - loss: 0.1144 - mean_absolute_error: 0.1144 - val_loss: 0.1274 - val_mean_absolute_error: 0.1274\n",
      "Epoch 83/100\n",
      "5600/5600 [==============================] - 0s 40us/step - loss: 0.1141 - mean_absolute_error: 0.1141 - val_loss: 0.1273 - val_mean_absolute_error: 0.1273\n",
      "Epoch 84/100\n",
      "5600/5600 [==============================] - 0s 41us/step - loss: 0.1145 - mean_absolute_error: 0.1145 - val_loss: 0.1276 - val_mean_absolute_error: 0.1276\n",
      "Epoch 85/100\n",
      "5600/5600 [==============================] - 0s 48us/step - loss: 0.1146 - mean_absolute_error: 0.1146 - val_loss: 0.1272 - val_mean_absolute_error: 0.1272\n",
      "Epoch 86/100\n",
      "5600/5600 [==============================] - 0s 43us/step - loss: 0.1141 - mean_absolute_error: 0.1141 - val_loss: 0.1280 - val_mean_absolute_error: 0.1280\n",
      "Epoch 87/100\n",
      "5600/5600 [==============================] - 0s 42us/step - loss: 0.1138 - mean_absolute_error: 0.1138 - val_loss: 0.1292 - val_mean_absolute_error: 0.1292\n",
      "Epoch 88/100\n",
      "5600/5600 [==============================] - 0s 42us/step - loss: 0.1139 - mean_absolute_error: 0.1139 - val_loss: 0.1289 - val_mean_absolute_error: 0.1289\n",
      "Epoch 89/100\n",
      "5600/5600 [==============================] - 0s 46us/step - loss: 0.1138 - mean_absolute_error: 0.1138 - val_loss: 0.1285 - val_mean_absolute_error: 0.1285\n",
      "Epoch 90/100\n",
      "5600/5600 [==============================] - 0s 40us/step - loss: 0.1142 - mean_absolute_error: 0.1142 - val_loss: 0.1285 - val_mean_absolute_error: 0.1285\n",
      "Epoch 91/100\n",
      "5600/5600 [==============================] - 0s 41us/step - loss: 0.1135 - mean_absolute_error: 0.1135 - val_loss: 0.1283 - val_mean_absolute_error: 0.1283\n",
      "Epoch 92/100\n",
      "5600/5600 [==============================] - 0s 40us/step - loss: 0.1139 - mean_absolute_error: 0.1139 - val_loss: 0.1277 - val_mean_absolute_error: 0.1277\n",
      "Epoch 93/100\n",
      "5600/5600 [==============================] - 0s 46us/step - loss: 0.1135 - mean_absolute_error: 0.1135 - val_loss: 0.1277 - val_mean_absolute_error: 0.1277\n",
      "Epoch 94/100\n",
      "5600/5600 [==============================] - 0s 42us/step - loss: 0.1135 - mean_absolute_error: 0.1135 - val_loss: 0.1276 - val_mean_absolute_error: 0.1276\n",
      "Epoch 95/100\n",
      "5600/5600 [==============================] - 0s 44us/step - loss: 0.1135 - mean_absolute_error: 0.1135 - val_loss: 0.1284 - val_mean_absolute_error: 0.1284\n",
      "Epoch 96/100\n",
      "5600/5600 [==============================] - 0s 43us/step - loss: 0.1136 - mean_absolute_error: 0.1136 - val_loss: 0.1274 - val_mean_absolute_error: 0.1274\n",
      "Epoch 97/100\n",
      "5600/5600 [==============================] - 0s 48us/step - loss: 0.1133 - mean_absolute_error: 0.1133 - val_loss: 0.1285 - val_mean_absolute_error: 0.1285\n",
      "Epoch 98/100\n",
      "5600/5600 [==============================] - 0s 41us/step - loss: 0.1135 - mean_absolute_error: 0.1135 - val_loss: 0.1290 - val_mean_absolute_error: 0.1290\n",
      "Epoch 99/100\n",
      "5600/5600 [==============================] - 0s 42us/step - loss: 0.1129 - mean_absolute_error: 0.1129 - val_loss: 0.1280 - val_mean_absolute_error: 0.1280\n",
      "Epoch 100/100\n",
      "5600/5600 [==============================] - 0s 40us/step - loss: 0.1128 - mean_absolute_error: 0.1128 - val_loss: 0.1284 - val_mean_absolute_error: 0.1284\n"
     ]
    },
    {
     "data": {
      "text/plain": [
       "<keras.callbacks.callbacks.History at 0x267a033a400>"
      ]
     },
     "execution_count": 143,
     "metadata": {},
     "output_type": "execute_result"
    }
   ],
   "source": [
    "NN_model.fit(X, y, epochs=100, batch_size=32, validation_split = 0.2)\n"
   ]
  },
  {
   "cell_type": "code",
   "execution_count": 144,
   "metadata": {},
   "outputs": [],
   "source": [
    "nn_test=NN_model.predict(X2)"
   ]
  },
  {
   "cell_type": "code",
   "execution_count": 145,
   "metadata": {},
   "outputs": [],
   "source": [
    "nn_test=pd.DataFrame(nn_test,columns=['Attrition_rate'])\n",
    "result=pd.concat([test_id,nn_test],axis=1)\n",
    "result.to_csv('empleave/outputnn.csv')"
   ]
  },
  {
   "cell_type": "code",
   "execution_count": null,
   "metadata": {},
   "outputs": [],
   "source": []
  },
  {
   "cell_type": "code",
   "execution_count": null,
   "metadata": {},
   "outputs": [],
   "source": []
  },
  {
   "cell_type": "markdown",
   "metadata": {},
   "source": [
    "## decision tree regressor"
   ]
  },
  {
   "cell_type": "code",
   "execution_count": 314,
   "metadata": {},
   "outputs": [],
   "source": [
    "from sklearn.tree import DecisionTreeRegressor"
   ]
  },
  {
   "cell_type": "code",
   "execution_count": 315,
   "metadata": {},
   "outputs": [
    {
     "data": {
      "text/plain": [
       "DecisionTreeRegressor(criterion='mse', max_depth=1, max_features=None,\n",
       "                      max_leaf_nodes=None, min_impurity_decrease=0.0,\n",
       "                      min_impurity_split=None, min_samples_leaf=1,\n",
       "                      min_samples_split=2, min_weight_fraction_leaf=0.0,\n",
       "                      presort=False, random_state=None, splitter='best')"
      ]
     },
     "execution_count": 315,
     "metadata": {},
     "output_type": "execute_result"
    }
   ],
   "source": [
    "regr_2 = DecisionTreeRegressor(max_depth=1)\n",
    "regr_2.fit(X, y)"
   ]
  },
  {
   "cell_type": "code",
   "execution_count": 316,
   "metadata": {},
   "outputs": [],
   "source": [
    "dt_test=regr_2.predict(X2)"
   ]
  },
  {
   "cell_type": "code",
   "execution_count": 317,
   "metadata": {},
   "outputs": [],
   "source": [
    "dt_test=pd.DataFrame(dt_test,columns=['Attrition_rate'])\n",
    "result=pd.concat([test_id,dt_test],axis=1)\n",
    "result.to_csv('empleave/outputdt.csv')"
   ]
  },
  {
   "cell_type": "code",
   "execution_count": null,
   "metadata": {},
   "outputs": [],
   "source": []
  },
  {
   "cell_type": "code",
   "execution_count": null,
   "metadata": {},
   "outputs": [],
   "source": []
  },
  {
   "cell_type": "code",
   "execution_count": 170,
   "metadata": {},
   "outputs": [
    {
     "name": "stdout",
     "output_type": "stream",
     "text": [
      "Collecting xgboost\n",
      "  Downloading xgboost-1.1.1-py3-none-win_amd64.whl (54.4 MB)\n",
      "Requirement already satisfied: scipy in c:\\users\\dmsss\\anaconda3\\lib\\site-packages (from xgboost) (1.4.1)\n",
      "Requirement already satisfied: numpy in c:\\users\\dmsss\\anaconda3\\lib\\site-packages (from xgboost) (1.18.1)\n",
      "Installing collected packages: xgboost\n",
      "Successfully installed xgboost-1.1.1\n",
      "Note: you may need to restart the kernel to use updated packages.\n"
     ]
    }
   ],
   "source": [
    "pip install xgboost"
   ]
  },
  {
   "cell_type": "code",
   "execution_count": 318,
   "metadata": {},
   "outputs": [],
   "source": [
    "import xgboost as xgb\n",
    "from sklearn.metrics import mean_squared_error\n",
    "import pandas as pd\n",
    "import numpy as np"
   ]
  },
  {
   "cell_type": "code",
   "execution_count": 319,
   "metadata": {},
   "outputs": [],
   "source": [
    "data_dmatrix = xgb.DMatrix(data=X,label=y)"
   ]
  },
  {
   "cell_type": "code",
   "execution_count": 320,
   "metadata": {},
   "outputs": [],
   "source": [
    "xg_reg = xgb.XGBRegressor(objective ='reg:linear', colsample_bytree = 0.2, learning_rate = 0.3,\n",
    "                max_depth = 1, alpha = 2, n_estimators = 5)"
   ]
  },
  {
   "cell_type": "code",
   "execution_count": 321,
   "metadata": {},
   "outputs": [
    {
     "name": "stdout",
     "output_type": "stream",
     "text": [
      "[14:02:15] WARNING: C:/Users/Administrator/workspace/xgboost-win64_release_1.1.0/src/objective/regression_obj.cu:170: reg:linear is now deprecated in favor of reg:squarederror.\n",
      "[14:02:15] WARNING: C:\\Users\\Administrator\\workspace\\xgboost-win64_release_1.1.0\\src\\learner.cc:480: \n",
      "Parameters: { colsample_bytree, max_depth } might not be used.\n",
      "\n",
      "  This may not be accurate due to some parameters are only used in language bindings but\n",
      "  passed down to XGBoost core.  Or some parameters are not used but slip through this\n",
      "  verification. Please open an issue if you find above cases.\n",
      "\n",
      "\n",
      "[14:02:15] WARNING: C:/Users/Administrator/workspace/xgboost-win64_release_1.1.0/src/objective/regression_obj.cu:170: reg:linear is now deprecated in favor of reg:squarederror.\n"
     ]
    },
    {
     "data": {
      "text/plain": [
       "XGBRegressor(alpha=2, base_score=0.5, booster='gblinear',\n",
       "             colsample_bylevel=None, colsample_bynode=None,\n",
       "             colsample_bytree=0.2, gamma=None, gpu_id=-1,\n",
       "             importance_type='gain', interaction_constraints=None,\n",
       "             learning_rate=0.3, max_delta_step=None, max_depth=1,\n",
       "             min_child_weight=None, missing=nan, monotone_constraints=None,\n",
       "             n_estimators=5, n_jobs=0, num_parallel_tree=None,\n",
       "             objective='reg:linear', random_state=0, reg_alpha=0, reg_lambda=0,\n",
       "             scale_pos_weight=1, subsample=None, tree_method=None,\n",
       "             validate_parameters=1, verbosity=None)"
      ]
     },
     "execution_count": 321,
     "metadata": {},
     "output_type": "execute_result"
    }
   ],
   "source": [
    "xg_reg.fit(X,y)"
   ]
  },
  {
   "cell_type": "code",
   "execution_count": 322,
   "metadata": {},
   "outputs": [],
   "source": [
    "xg_test=xg_reg.predict(X2)"
   ]
  },
  {
   "cell_type": "code",
   "execution_count": 323,
   "metadata": {},
   "outputs": [],
   "source": [
    "xg_test=pd.DataFrame(xg_test,columns=['Attrition_rate'])\n",
    "result=pd.concat([test_id,xg_test],axis=1)\n",
    "result.to_csv('empleave/outputxg.csv')"
   ]
  },
  {
   "cell_type": "code",
   "execution_count": null,
   "metadata": {},
   "outputs": [],
   "source": []
  },
  {
   "cell_type": "code",
   "execution_count": null,
   "metadata": {},
   "outputs": [],
   "source": []
  },
  {
   "cell_type": "code",
   "execution_count": 12,
   "metadata": {},
   "outputs": [
    {
     "name": "stderr",
     "output_type": "stream",
     "text": [
      "C:\\Users\\dmsss\\Anaconda3\\lib\\site-packages\\sklearn\\utils\\validation.py:724: DataConversionWarning: A column-vector y was passed when a 1d array was expected. Please change the shape of y to (n_samples, ), for example using ravel().\n",
      "  y = column_or_1d(y, warn=True)\n"
     ]
    },
    {
     "data": {
      "text/plain": [
       "BayesianRidge(alpha_1=1e-06, alpha_2=1e-06, compute_score=True, copy_X=True,\n",
       "              fit_intercept=True, lambda_1=1e-06, lambda_2=1e-06, n_iter=300,\n",
       "              normalize=False, tol=0.001, verbose=False)"
      ]
     },
     "execution_count": 12,
     "metadata": {},
     "output_type": "execute_result"
    }
   ],
   "source": [
    "clf = BayesianRidge(compute_score=True)\n",
    "clf.fit(X, y)"
   ]
  },
  {
   "cell_type": "code",
   "execution_count": 20,
   "metadata": {},
   "outputs": [],
   "source": [
    "br_test=clf.predict(X2)"
   ]
  },
  {
   "cell_type": "code",
   "execution_count": 25,
   "metadata": {},
   "outputs": [],
   "source": [
    "br_test=pd.DataFrame(br_test,columns=['Attrition_rate'])\n",
    "result=pd.concat([test_id,br_test],axis=1)\n",
    "result.to_csv('empleave/outputbr.csv')"
   ]
  },
  {
   "cell_type": "code",
   "execution_count": null,
   "metadata": {},
   "outputs": [],
   "source": []
  },
  {
   "cell_type": "code",
   "execution_count": null,
   "metadata": {},
   "outputs": [],
   "source": []
  },
  {
   "cell_type": "code",
   "execution_count": 26,
   "metadata": {},
   "outputs": [],
   "source": [
    ">>> from sklearn.linear_model import ElasticNet\n",
    ">>> from sklearn.datasets import make_regression"
   ]
  },
  {
   "cell_type": "code",
   "execution_count": 27,
   "metadata": {},
   "outputs": [
    {
     "data": {
      "text/plain": [
       "ElasticNet(alpha=1.0, copy_X=True, fit_intercept=True, l1_ratio=0.5,\n",
       "           max_iter=1000, normalize=False, positive=False, precompute=False,\n",
       "           random_state=0, selection='cyclic', tol=0.0001, warm_start=False)"
      ]
     },
     "execution_count": 27,
     "metadata": {},
     "output_type": "execute_result"
    }
   ],
   "source": [
    ">>> regr = ElasticNet(random_state=0)\n",
    ">>> regr.fit(X, y)"
   ]
  },
  {
   "cell_type": "code",
   "execution_count": 28,
   "metadata": {},
   "outputs": [],
   "source": [
    "en_test=clf.predict(X2)"
   ]
  },
  {
   "cell_type": "code",
   "execution_count": 29,
   "metadata": {},
   "outputs": [],
   "source": [
    "en_test=pd.DataFrame(en_test,columns=['Attrition_rate'])\n",
    "result=pd.concat([test_id,en_test],axis=1)\n",
    "result.to_csv('empleave/outputben.csv')"
   ]
  },
  {
   "cell_type": "code",
   "execution_count": null,
   "metadata": {},
   "outputs": [],
   "source": []
  },
  {
   "cell_type": "code",
   "execution_count": null,
   "metadata": {},
   "outputs": [],
   "source": []
  },
  {
   "cell_type": "code",
   "execution_count": 30,
   "metadata": {},
   "outputs": [],
   "source": [
    ">>> from sklearn.linear_model import Ridge\n"
   ]
  },
  {
   "cell_type": "code",
   "execution_count": 33,
   "metadata": {},
   "outputs": [
    {
     "data": {
      "text/plain": [
       "Ridge(alpha=0.5, copy_X=True, fit_intercept=True, max_iter=None,\n",
       "      normalize=False, random_state=None, solver='auto', tol=0.001)"
      ]
     },
     "execution_count": 33,
     "metadata": {},
     "output_type": "execute_result"
    }
   ],
   "source": [
    ">>> clf = Ridge(alpha=0.5)\n",
    ">>> clf.fit(X, y)"
   ]
  },
  {
   "cell_type": "code",
   "execution_count": 34,
   "metadata": {},
   "outputs": [],
   "source": [
    "rg_test=clf.predict(X2)\n",
    "rg_test=pd.DataFrame(rg_test,columns=['Attrition_rate'])\n",
    "result=pd.concat([test_id,rg_test],axis=1)\n",
    "result.to_csv('empleave/outputrg.csv')"
   ]
  },
  {
   "cell_type": "code",
   "execution_count": null,
   "metadata": {},
   "outputs": [],
   "source": []
  },
  {
   "cell_type": "code",
   "execution_count": null,
   "metadata": {},
   "outputs": [],
   "source": []
  },
  {
   "cell_type": "code",
   "execution_count": 39,
   "metadata": {},
   "outputs": [],
   "source": [
    ">>> from sklearn import linear_model\n",
    ">>> clf = linear_model.MultiTaskElasticNet(alpha=0.5)"
   ]
  },
  {
   "cell_type": "code",
   "execution_count": 40,
   "metadata": {},
   "outputs": [
    {
     "data": {
      "text/plain": [
       "MultiTaskElasticNet(alpha=0.5, copy_X=True, fit_intercept=True, l1_ratio=0.5,\n",
       "                    max_iter=1000, normalize=False, random_state=None,\n",
       "                    selection='cyclic', tol=0.0001, warm_start=False)"
      ]
     },
     "execution_count": 40,
     "metadata": {},
     "output_type": "execute_result"
    }
   ],
   "source": [
    ">>> clf.fit(X, y)"
   ]
  },
  {
   "cell_type": "code",
   "execution_count": 41,
   "metadata": {},
   "outputs": [],
   "source": [
    "men_test=clf.predict(X2)\n",
    "men_test=pd.DataFrame(men_test,columns=['Attrition_rate'])\n",
    "result=pd.concat([test_id,men_test],axis=1)\n",
    "result.to_csv('empleave/outputmen.csv')"
   ]
  },
  {
   "cell_type": "code",
   "execution_count": null,
   "metadata": {},
   "outputs": [],
   "source": []
  },
  {
   "cell_type": "code",
   "execution_count": null,
   "metadata": {},
   "outputs": [],
   "source": []
  },
  {
   "cell_type": "code",
   "execution_count": 47,
   "metadata": {},
   "outputs": [],
   "source": [
    "reg = linear_model.LassoLars(alpha=1.0)"
   ]
  },
  {
   "cell_type": "code",
   "execution_count": 48,
   "metadata": {},
   "outputs": [
    {
     "data": {
      "text/plain": [
       "LassoLars(alpha=1.0, copy_X=True, eps=2.220446049250313e-16, fit_intercept=True,\n",
       "          fit_path=True, max_iter=500, normalize=True, positive=False,\n",
       "          precompute='auto', verbose=False)"
      ]
     },
     "execution_count": 48,
     "metadata": {},
     "output_type": "execute_result"
    }
   ],
   "source": [
    "reg.fit(X,y)"
   ]
  },
  {
   "cell_type": "code",
   "execution_count": 49,
   "metadata": {},
   "outputs": [],
   "source": [
    "lars_test=clf.predict(X2)\n",
    "lars_test=pd.DataFrame(lars_test,columns=['Attrition_rate'])\n",
    "result=pd.concat([test_id,lars_test],axis=1)\n",
    "result.to_csv('empleave/outputlars.csv')"
   ]
  },
  {
   "cell_type": "code",
   "execution_count": null,
   "metadata": {},
   "outputs": [],
   "source": []
  }
 ],
 "metadata": {
  "kernelspec": {
   "display_name": "Python 3",
   "language": "python",
   "name": "python3"
  },
  "language_info": {
   "codemirror_mode": {
    "name": "ipython",
    "version": 3
   },
   "file_extension": ".py",
   "mimetype": "text/x-python",
   "name": "python",
   "nbconvert_exporter": "python",
   "pygments_lexer": "ipython3",
   "version": "3.7.3"
  }
 },
 "nbformat": 4,
 "nbformat_minor": 2
}
